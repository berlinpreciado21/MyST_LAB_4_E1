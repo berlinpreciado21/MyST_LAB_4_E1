{
 "cells": [
  {
   "cell_type": "code",
   "execution_count": 1,
   "metadata": {},
   "outputs": [],
   "source": [
    "import plotly.express as px\n"
   ]
  },
  {
   "cell_type": "markdown",
   "metadata": {},
   "source": [
    "# Midprice graph"
   ]
  },
  {
   "cell_type": "code",
   "execution_count": 2,
   "metadata": {},
   "outputs": [],
   "source": [
    "def grafica_btc(dataframe): \n",
    "    df2= dataframe[dataframe[\"Ticker\"]==\"BTC/USDT\"]\n",
    "    fig=px.line(df2, x=\"Index\", y=\"Midprice\",color=\"Exchange\",title=(\"Grafica del midprice de BTC/USDT\"))\n",
    "\n",
    "    return fig.show()"
   ]
  },
  {
   "cell_type": "code",
   "execution_count": 3,
   "metadata": {},
   "outputs": [],
   "source": [
    "def grafica_ltc(dataframe): \n",
    "    df2= dataframe[dataframe[\"Ticker\"]==\"LTC/USDT\"]\n",
    "    fig=px.line(df2, x=\"Index\", y=\"Midprice\",color=\"Exchange\",title=(\"Grafica del midprice de LTC/USDT \"))\n",
    "\n",
    "    return fig.show()"
   ]
  },
  {
   "cell_type": "code",
   "execution_count": 4,
   "metadata": {},
   "outputs": [],
   "source": [
    "def grafica_eos(dataframe): \n",
    "    df2= dataframe[dataframe[\"Ticker\"]==\"XRP/USDT\"]\n",
    "    fig=px.line(df2, x=\"Index\", y=\"Midprice\",color=\"Exchange\",title=(\"Grafica del midprice de XRP/USDT \"))\n",
    "\n",
    "    return fig.show()"
   ]
  },
  {
   "cell_type": "markdown",
   "metadata": {},
   "source": [
    "# Ask"
   ]
  },
  {
   "cell_type": "code",
   "execution_count": 5,
   "metadata": {},
   "outputs": [],
   "source": [
    "def grafica_btca(dataframe): \n",
    "    df2= dataframe[dataframe[\"Ticker\"]==\"BTC/USDT\"]\n",
    "    fig=px.line(df2, x=\"Index\", y=\"Ask\",color=\"Exchange\",title=(\"Grafica del ask de BTC/USDT\"))\n",
    "\n",
    "    return fig.show()"
   ]
  },
  {
   "cell_type": "code",
   "execution_count": 6,
   "metadata": {},
   "outputs": [],
   "source": [
    "def grafica_ltca(dataframe): \n",
    "    df2= dataframe[dataframe[\"Ticker\"]==\"LTC/USDT\"]\n",
    "    fig=px.line(df2, x=\"Index\", y=\"Ask\",color=\"Exchange\",title=(\"Grafica del ask de LTC/USDT \"))\n",
    "\n",
    "    return fig.show()"
   ]
  },
  {
   "cell_type": "code",
   "execution_count": 7,
   "metadata": {},
   "outputs": [],
   "source": [
    "def grafica_eosa(dataframe): \n",
    "    df2= dataframe[dataframe[\"Ticker\"]==\"XRP/USDT\"]\n",
    "    fig=px.line(df2, x=\"Index\", y=\"Midprice\",color=\"Exchange\",title=(\"Grafica del ask de XRP/USDT \"))\n",
    "\n",
    "    return fig.show()"
   ]
  },
  {
   "cell_type": "markdown",
   "metadata": {},
   "source": [
    "# Bid"
   ]
  },
  {
   "cell_type": "code",
   "execution_count": 8,
   "metadata": {},
   "outputs": [],
   "source": [
    "def grafica_btcb(dataframe): \n",
    "    df2= dataframe[dataframe[\"Ticker\"]==\"BTC/USDT\"]\n",
    "    fig=px.line(df2, x=\"Index\", y=\"Bid\",color=\"Exchange\",title=(\"Grafica del bid de BTC/USDT\"))\n",
    "\n",
    "    return fig.show()"
   ]
  },
  {
   "cell_type": "code",
   "execution_count": 9,
   "metadata": {},
   "outputs": [],
   "source": [
    "def grafica_ltcb(dataframe): \n",
    "    df2= dataframe[dataframe[\"Ticker\"]==\"LTC/USDT\"]\n",
    "    fig=px.line(df2, x=\"Index\", y=\"Bid\",color=\"Exchange\",title=(\"Grafica del bid de LTC/USDT \"))\n",
    "\n",
    "    return fig.show()"
   ]
  },
  {
   "cell_type": "code",
   "execution_count": 10,
   "metadata": {},
   "outputs": [],
   "source": [
    "def grafica_eosb(dataframe): \n",
    "    df2= dataframe[dataframe[\"Ticker\"]==\"XRP/USDT\"]\n",
    "    fig=px.line(df2, x=\"Index\", y=\"Midprice\",color=\"Exchange\",title=(\"Grafica del bid de XRP/USDT \"))\n",
    "\n",
    "    return fig.show()"
   ]
  },
  {
   "cell_type": "markdown",
   "metadata": {},
   "source": [
    "# Spread"
   ]
  },
  {
   "cell_type": "code",
   "execution_count": 11,
   "metadata": {},
   "outputs": [],
   "source": [
    "def grafica_btcs(dataframe): \n",
    "    df2= dataframe[dataframe[\"Ticker\"]==\"BTC/USDT\"]\n",
    "    fig=px.line(df2, x=\"Index\", y=\"Spread\",color=\"Exchange\",title=(\"Grafica del spread de BTC/USDT\"))\n",
    "\n",
    "    return fig.show()"
   ]
  },
  {
   "cell_type": "code",
   "execution_count": 12,
   "metadata": {},
   "outputs": [],
   "source": [
    "def grafica_ltcs(dataframe): \n",
    "    df2= dataframe[dataframe[\"Ticker\"]==\"LTC/USDT\"]\n",
    "    fig=px.line(df2, x=\"Index\", y=\"Spread\",color=\"Exchange\",title=(\"Grafica del spread de LTC/USDT \"))\n",
    "\n",
    "    return fig.show()"
   ]
  },
  {
   "cell_type": "code",
   "execution_count": 13,
   "metadata": {},
   "outputs": [],
   "source": [
    "def grafica_eoss(dataframe): \n",
    "    df2= dataframe[dataframe[\"Ticker\"]==\"XRP/USDT\"]\n",
    "    fig=px.line(df2, x=\"Index\", y=\"Spread\",color=\"Exchange\",title=(\"Grafica del spread de XRP/USDT \"))\n",
    "\n",
    "    return fig.show()"
   ]
  },
  {
   "cell_type": "markdown",
   "metadata": {},
   "source": [
    "# Vwap Ask"
   ]
  },
  {
   "cell_type": "code",
   "execution_count": 14,
   "metadata": {},
   "outputs": [],
   "source": [
    "def grafica_btcv(dataframe): \n",
    "    df2= dataframe[dataframe[\"Ticker\"]==\"BTC/USDT\"]\n",
    "    fig=px.line(df2, x=\"Index\", y=\"Vwap Ask\",color=\"Exchange\",title=(\"Grafica del VWAP de BTC/USDT\"))\n",
    "\n",
    "    return fig.show()"
   ]
  },
  {
   "cell_type": "code",
   "execution_count": 15,
   "metadata": {},
   "outputs": [],
   "source": [
    "def grafica_ltcv(dataframe): \n",
    "    df2= dataframe[dataframe[\"Ticker\"]==\"LTC/USDT\"]\n",
    "    fig=px.line(df2, x=\"Index\", y=\"Vwap Ask\",color=\"Exchange\",title=(\"Grafica del VWAP de LTC/USDT \"))\n",
    "\n",
    "    return fig.show()"
   ]
  },
  {
   "cell_type": "code",
   "execution_count": 16,
   "metadata": {},
   "outputs": [],
   "source": [
    "def grafica_eosV(dataframe): \n",
    "    df2= dataframe[dataframe[\"Ticker\"]==\"XRP/USDT\"]\n",
    "    fig=px.line(df2, x=\"Index\", y=\"Vwap Ask\",color=\"Exchange\",title=(\"Grafica del VWAP de XRP/USDT \"))\n",
    "\n",
    "    return fig.show()"
   ]
  },
  {
   "cell_type": "code",
   "execution_count": null,
   "metadata": {},
   "outputs": [],
   "source": []
  }
 ],
 "metadata": {
  "kernelspec": {
   "display_name": "Python 3",
   "language": "python",
   "name": "python3"
  },
  "language_info": {
   "codemirror_mode": {
    "name": "ipython",
    "version": 3
   },
   "file_extension": ".py",
   "mimetype": "text/x-python",
   "name": "python",
   "nbconvert_exporter": "python",
   "pygments_lexer": "ipython3",
   "version": "3.8.3"
  }
 },
 "nbformat": 4,
 "nbformat_minor": 4
}
