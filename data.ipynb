{
 "cells": [
  {
   "cell_type": "code",
   "execution_count": null,
   "metadata": {},
   "outputs": [],
   "source": [
    "pip install plotly.graph_object"
   ]
  },
  {
   "cell_type": "code",
   "execution_count": null,
   "metadata": {},
   "outputs": [],
   "source": [
    "import ccxt\n",
    "import numpy as np\n",
    "import pandas as pd\n",
    "from sympy import Limit\n",
    "\n",
    "\n"
   ]
  },
  {
   "cell_type": "code",
   "execution_count": null,
   "metadata": {},
   "outputs": [],
   "source": [
    "print(ccxt.exchanges)"
   ]
  },
  {
   "cell_type": "code",
   "execution_count": null,
   "metadata": {},
   "outputs": [],
   "source": [
    "#Consultar las lista de las ordenes compra(bid) y ventas(ask)\n",
    "bitso = ccxt.bitso()\n",
    "limit=30\n",
    "bi_btc_ob = bitso.fetch_order_book('BTC/USDT',limit=limit)\n",
    "bi_btc_ob_ask=pd.DataFrame(bi_btc_ob[\"asks\"],columns=[\"price\",\"quantity\"])\n",
    "bi_btc_ob_bid=pd.DataFrame(bi_btc_ob[\"bids\"],columns=[\"price\",\"quantity\"])"
   ]
  },
  {
   "cell_type": "code",
   "execution_count": null,
   "metadata": {},
   "outputs": [],
   "source": [
    "bid=bi_btc_ob[\"bids\"][0][0] if len(bi_btc_ob[\"bids\"])>0 else None\n",
    "ask=bi_btc_ob[\"asks\"][0][0] if len(bi_btc_ob[\"asks\"])>0 else None"
   ]
  },
  {
   "cell_type": "code",
   "execution_count": null,
   "metadata": {},
   "outputs": [],
   "source": [
    "spread= (ask-bid) if (ask and bid) else None"
   ]
  },
  {
   "cell_type": "code",
   "execution_count": null,
   "metadata": {},
   "outputs": [],
   "source": [
    "# fecth ohcl\n",
    "from_datetime = '2022-04-19T13:19:34.000Z'\n",
    "since = bitso.parse8601(from_datetime)\n",
    "ohlc = pd.DataFrame(bitso.fetch_ohlcv(symbol, timeframe='1m', since=since, limit=100))\n",
    "bitso.iso8601(int(ohlc.iloc[0,0]))\n",
    "btc_ob_plot = go.Figure()"
   ]
  }
 ],
 "metadata": {
  "kernelspec": {
   "display_name": "Python 3",
   "language": "python",
   "name": "python3"
  },
  "language_info": {
   "codemirror_mode": {
    "name": "ipython",
    "version": 3
   },
   "file_extension": ".py",
   "mimetype": "text/x-python",
   "name": "python",
   "nbconvert_exporter": "python",
   "pygments_lexer": "ipython3",
   "version": "3.8.3"
  }
 },
 "nbformat": 4,
 "nbformat_minor": 4
}
