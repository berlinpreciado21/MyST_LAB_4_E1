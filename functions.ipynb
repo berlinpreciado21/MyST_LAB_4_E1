{
 "cells": [
  {
   "cell_type": "code",
   "execution_count": 270,
   "metadata": {},
   "outputs": [],
   "source": [
    "import ccxt\n",
    "from datetime import datetime\n",
    "import pandas as pd\n",
    "from sympy import Limit\n",
    "import numpy as np\n",
    "\n"
   ]
  },
  {
   "cell_type": "markdown",
   "metadata": {},
   "source": [
    "## Fetch Ohlcv"
   ]
  },
  {
   "cell_type": "code",
   "execution_count": 281,
   "metadata": {},
   "outputs": [],
   "source": [
    "\n",
    "\n",
    "def fetchData(exchange, symbol, timeframe, since=\"26-04-2022\", limit=30):\n",
    "    exchange_list = [\n",
    "        \"kraken\",\n",
    "        'ftx',\n",
    "        'currencycom',\n",
    "        'coinmate' ]\n",
    "    try:\n",
    "        exchange = getattr(ccxt, exchange)()\n",
    "    except AttributeError:\n",
    "        print(\"-\" * 36, \" ERROR \", \"-\" * 35)\n",
    "        print(\n",
    "            'Exchange \"{}\" not found. Please check the exchange is supported.'.format(\n",
    "                exchange\n",
    "            )\n",
    "        )\n",
    "        print(\"Supported exchanges are:\")\n",
    "        print(exchange_list)\n",
    "        print(\"-\" * 80)\n",
    "        quit()\n",
    "\n",
    "    data = exchange.fetch_ohlcv(symbol, timeframe, since, limit)\n",
    "    header = [\"Timestamp\", \"open\", \"high\", \"low\", \"close\", \"volume\"]\n",
    "    df = pd.DataFrame(data, columns=header)\n",
    "\n",
    "    df.Timestamp = (\n",
    "        df.Timestamp / 1000\n",
    "    ) \n",
    "    df[\"date\"] = pd.to_datetime(df.Timestamp, unit=\"s\")\n",
    "\n",
    "    df = df[[\"date\", \"open\", \"high\", \"low\", \"close\", \"volume\"]]\n",
    "\n",
    "    df[\"open\"] = pd.to_numeric(df[\"open\"])\n",
    "    df[\"high\"] = pd.to_numeric(df[\"high\"])\n",
    "    df[\"low\"] = pd.to_numeric(df[\"low\"])\n",
    "    df[\"close\"] = pd.to_numeric(df[\"close\"])\n",
    "    df[\"volume\"] = pd.to_numeric(df[\"volume\"])\n",
    "\n",
    "    return df"
   ]
  },
  {
   "cell_type": "code",
   "execution_count": 282,
   "metadata": {},
   "outputs": [
    {
     "name": "stdout",
     "output_type": "stream",
     "text": [
      "                  date     open     high      low    close    volume\n",
      "0  2022-04-28 00:47:00  39319.4  39319.4  39319.4  39319.4  0.013214\n",
      "1  2022-04-28 00:48:00  39319.4  39350.8  39319.4  39350.8  0.250173\n",
      "2  2022-04-28 00:49:00  39367.9  39372.9  39367.9  39372.9  0.010198\n",
      "3  2022-04-28 00:50:00  39375.0  39442.8  39375.0  39385.4  0.095567\n",
      "4  2022-04-28 00:51:00  39385.4  39385.4  39385.4  39385.4  0.000000\n",
      "5  2022-04-28 00:52:00  39338.4  39338.4  39323.4  39323.4  0.004313\n",
      "6  2022-04-28 00:53:00  39323.4  39323.4  39323.4  39323.4  0.000000\n",
      "7  2022-04-28 00:54:00  39346.0  39346.0  39346.0  39346.0  0.002470\n",
      "8  2022-04-28 00:55:00  39346.0  39346.0  39346.0  39346.0  0.000000\n",
      "9  2022-04-28 00:56:00  39338.6  39338.6  39338.6  39338.6  0.003200\n",
      "10 2022-04-28 00:57:00  39338.6  39338.6  39338.6  39338.6  0.000000\n",
      "11 2022-04-28 00:58:00  39365.3  39365.3  39365.3  39365.3  0.003175\n",
      "12 2022-04-28 00:59:00  39370.5  39370.5  39370.5  39370.5  0.003094\n",
      "13 2022-04-28 01:00:00  39394.3  39394.3  39389.6  39389.6  0.002493\n",
      "14 2022-04-28 01:01:00  39390.0  39394.5  39390.0  39394.5  0.006101\n",
      "15 2022-04-28 01:02:00  39404.2  39416.2  39403.8  39416.2  1.600000\n",
      "16 2022-04-28 01:03:00  39397.5  39397.5  39397.5  39397.5  0.078618\n",
      "17 2022-04-28 01:04:00  39397.5  39397.5  39397.5  39397.5  0.000000\n",
      "18 2022-04-28 01:05:00  39445.1  39456.7  39445.1  39445.1  0.151532\n",
      "19 2022-04-28 01:06:00  39462.3  39554.5  39462.3  39554.5  1.035632\n",
      "20 2022-04-28 01:07:00  39564.4  39656.3  39556.4  39620.0  1.236378\n",
      "21 2022-04-28 01:08:00  39620.0  39620.0  39620.0  39620.0  0.000000\n",
      "22 2022-04-28 01:09:00  39620.0  39620.0  39620.0  39620.0  0.000000\n",
      "23 2022-04-28 01:10:00  39639.7  39662.4  39639.7  39662.4  0.011863\n",
      "24 2022-04-28 01:11:00  39662.4  39662.4  39662.4  39662.4  0.000000\n",
      "25 2022-04-28 01:12:00  39621.8  39621.8  39621.8  39621.8  0.000603\n",
      "26 2022-04-28 01:13:00  39576.1  39576.1  39539.9  39540.6  0.058128\n",
      "27 2022-04-28 01:14:00  39541.0  39541.0  39541.0  39541.0  0.001995\n",
      "28 2022-04-28 01:15:00  39540.4  39545.7  39527.6  39527.6  0.018703\n",
      "29 2022-04-28 01:16:00  39527.6  39527.6  39527.6  39527.6  0.000000\n"
     ]
    }
   ],
   "source": [
    "print(fetchData(\"kraken\",'BTC/USDT',\"1m\",30))"
   ]
  },
  {
   "cell_type": "markdown",
   "metadata": {},
   "source": [
    "## Funciones-Fecthc Order Book para los distintos apis"
   ]
  },
  {
   "cell_type": "code",
   "execution_count": 261,
   "metadata": {},
   "outputs": [],
   "source": [
    "def fetch_order_book_kraken(symbol,limit):\n",
    "    exchange = ccxt.kraken()\n",
    "    bi_btc_ob = exchange.fetch_order_book(symbol,limit=limit)\n",
    "    bi_btc_ob_ask=pd.DataFrame(bi_btc_ob[\"asks\"],columns=[\"Ask\",\"AVolume\"])\n",
    "    bi_btc_ob_bid=pd.DataFrame(bi_btc_ob[\"bids\"],columns=[\"Bid\",\"BVolume\"])\n",
    "    dfk = pd.concat([bi_btc_ob_ask,  bi_btc_ob_bid],axis=1)\n",
    "    dfk['Vwap Ask'] =(np.cumsum(dfk.Ask*dfk.AVolume) / np.cumsum(dfk.AVolume))\n",
    "    dfk['Vwap Bid'] =(np.cumsum(dfk.Bid*dfk.BVolume) / np.cumsum(dfk.BVolume))\n",
    "    dfk[\"Total Volume\"]=(dfk.AVolume + dfk.BVolume)\n",
    "    dfk[\"Midprice\"]=((dfk.Ask + dfk.Bid)/2)\n",
    "    dfk['Vwap Ask'] =(np.cumsum(dfk.Ask*dfk.AVolume) / np.cumsum(dfk.AVolume))\n",
    "    dfk['Vwap Bid'] =(np.cumsum(dfk.Bid*dfk.BVolume) / np.cumsum(dfk.BVolume))\n",
    "    \n",
    "                       \n",
    "    return dfk\n"
   ]
  },
  {
   "cell_type": "code",
   "execution_count": null,
   "metadata": {},
   "outputs": [],
   "source": [
    "def fetch_order_book_ftx(symbol,limit):\n",
    "    exchange = ccxt.ftx()\n",
    "    bi_btc_ob = exchange.fetch_order_book(symbol,limit=limit)\n",
    "    bi_btc_ob_ask=pd.DataFrame(bi_btc_ob[\"asks\"],columns=[\"Ask\",\"AVolume\"])\n",
    "    bi_btc_ob_bid=pd.DataFrame(bi_btc_ob[\"bids\"],columns=[\"Bid\",\"BVolume\"])\n",
    "    dff = pd.concat([bi_btc_ob_ask,  bi_btc_ob_bid],axis=1)\n",
    "    dff['Vwap Ask'] =(np.cumsum(dff.Ask*dff.AVolume) / np.cumsum(dff.AVolume))\n",
    "    dff['Vwap Bid'] =(np.cumsum(dff.Bid*dff.BVolume) / np.cumsum(dff.BVolume))\n",
    "    dff[\"Total Volume\"]=(dff.AVolume + dff.BVolume)\n",
    "    dff[\"Midprice\"]=((dff.Ask + dff.Bid)/2)\n",
    "    dff['Vwap Ask'] =(np.cumsum(dff.Ask*df.AVolume) / np.cumsum(dff.AVolume))\n",
    "    dff['Vwap Bid'] =(np.cumsum(dff.Bid*df.BVolume) / np.cumsum(dff.BVolume))\n",
    "    \n",
    "                       \n",
    "    return dff\n"
   ]
  },
  {
   "cell_type": "code",
   "execution_count": 262,
   "metadata": {},
   "outputs": [],
   "source": [
    "def fetch_order_book_currencycom(symbol,limit):\n",
    "    exchange = ccxt.currencycom()\n",
    "    bi_btc_ob = exchange.fetch_order_book(symbol,limit=limit)\n",
    "    bi_btc_ob_ask=pd.DataFrame(bi_btc_ob[\"asks\"],columns=[\"Ask\",\"AVolume\"])\n",
    "    bi_btc_ob_bid=pd.DataFrame(bi_btc_ob[\"bids\"],columns=[\"Bid\",\"BVolume\"])\n",
    "    dfc = pd.concat([bi_btc_ob_ask,  bi_btc_ob_bid],axis=1)\n",
    "    dfc['Vwap Ask'] =(np.cumsum(dfc.Ask*dfc.AVolume) / np.cumsum(dfc.AVolume))\n",
    "    dfc['Vwap Bid'] =(np.cumsum(dfc.Bid*dfc.BVolume) / np.cumsum(dfc.BVolume))\n",
    "    dfc[\"Total Volume\"]=(dfc.AVolume + dfc.BVolume)\n",
    "    dfc[\"Midprice\"]=((dfc.Ask + dfc.Bid)/2)\n",
    "    dfc['Vwap Ask'] =(np.cumsum(dfc.Ask*dfc.AVolume) / np.cumsum(dfc.AVolume))\n",
    "    dfc['Vwap Bid'] =(np.cumsum(dfc.Bid*dfc.BVolume) / np.cumsum(dfc.BVolume))\n",
    "    \n",
    "                       \n",
    "    return dfc"
   ]
  },
  {
   "cell_type": "code",
   "execution_count": null,
   "metadata": {},
   "outputs": [],
   "source": [
    "def fetch_order_book_coinmate(symbol,limit):\n",
    "    exchange = ccxt.coinmate()\n",
    "    bi_btc_ob = exchange.fetch_order_book(symbol,limit=limit)\n",
    "    bi_btc_ob_ask=pd.DataFrame(bi_btc_ob[\"asks\"],columns=[\"Ask\",\"AVolume\"])\n",
    "    bi_btc_ob_bid=pd.DataFrame(bi_btc_ob[\"bids\"],columns=[\"Bid\",\"BVolume\"])\n",
    "    dfcm = pd.concat([bi_btc_ob_ask,  bi_btc_ob_bid],axis=1)\n",
    "    dfcm['Vwap Ask'] =(np.cumsum(dfcm.Ask*dfcm.AVolume) / np.cumsum(dfcm.AVolume))\n",
    "    dfcm['Vwap Bid'] =(np.cumsum(dfcm.Bid*dfcm.BVolume) / np.cumsum(dfcm.BVolume))\n",
    "    dfcm[\"Total Volume\"]=(dfcm.AVolume + dfcm.BVolume)\n",
    "    dfcm[\"Midprice\"]=((dfcm.Ask + dfcm.Bid)/2)\n",
    "    dfcm['Vwap Ask'] =(np.cumsum(dfcm.Ask*dfcm.AVolume) / np.cumsum(dfcm.AVolume))\n",
    "    dfcm['Vwap Bid'] =(np.cumsum(dfcm.Bid*dfcm.BVolume) / np.cumsum(dfcm.BVolume))\n",
    "    \n",
    "                       \n",
    "    return dfcm"
   ]
  }
 ],
 "metadata": {
  "kernelspec": {
   "display_name": "Python 3",
   "language": "python",
   "name": "python3"
  },
  "language_info": {
   "codemirror_mode": {
    "name": "ipython",
    "version": 3
   },
   "file_extension": ".py",
   "mimetype": "text/x-python",
   "name": "python",
   "nbconvert_exporter": "python",
   "pygments_lexer": "ipython3",
   "version": "3.8.3"
  }
 },
 "nbformat": 4,
 "nbformat_minor": 4
}
