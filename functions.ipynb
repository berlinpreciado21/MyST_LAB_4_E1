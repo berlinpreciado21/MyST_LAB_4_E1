{
 "cells": [
  {
   "cell_type": "code",
   "execution_count": 25,
   "metadata": {},
   "outputs": [],
   "source": [
    "import ccxt\n",
    "from datetime import datetime\n",
    "import pandas as pd\n",
    "from sympy import Limit\n",
    "import numpy as np\n",
    "import time\n",
    "\n"
   ]
  },
  {
   "cell_type": "markdown",
   "metadata": {},
   "source": [
    "## Fetch Ohlcv"
   ]
  },
  {
   "cell_type": "code",
   "execution_count": 26,
   "metadata": {},
   "outputs": [],
   "source": [
    "\n",
    "\n",
    "def fetchData(exchange, symbol, timeframe, since=\"26-04-2022\", limit=100):\n",
    "    exchange_list = [\n",
    "        'aax', \n",
    "        'ascendex', \n",
    "        'bequant', \n",
    "        'bibox',\n",
    "        'bigone',\n",
    "        'binance',\n",
    "        'binancecoinm',\n",
    "        'binanceus',\n",
    "        'binanceusdm', \n",
    "        'bit2c', \n",
    "        'bitbank',\n",
    "        'bitbay',\n",
    "        'bitbns',\n",
    "        'bitcoincom', \n",
    "        'bitfinex',\n",
    "        'bitfinex2',\n",
    "        'bitflyer', \n",
    "        'bitforex', \n",
    "        'bitget', \n",
    "        'bithumb', \n",
    "        'bitmart',\n",
    "        'bitmex',\n",
    "        'bitopro',\n",
    "        'bitpanda', \n",
    "        'bitrue', \n",
    "        'bitso',\n",
    "        'bitstamp', \n",
    "        'bitstamp1', 'bittrex', 'bitvavo', 'bkex', 'bl3p', 'blockchaincom', 'btcalpha', 'btcbox', 'btcmarkets', 'btctradeua', 'btcturk', 'buda', 'bw', 'bybit', 'bytetrade', 'cdax', 'cex', 'coinbase', 'coinbaseprime', 'coinbasepro', 'coincheck', 'coinex', 'coinfalcon', 'coinmate', 'coinone', 'coinspot', 'crex24', 'cryptocom', 'currencycom', 'delta', 'deribit', 'digifinex', 'eqonex', 'exmo', 'flowbtc', 'fmfwio', 'ftx', 'ftxus', 'gateio', 'gemini', 'hitbtc', 'hitbtc3', 'hollaex', 'huobi', 'huobijp', 'huobipro', 'idex', 'independentreserve', 'indodax', 'itbit', 'kraken', 'kucoin', 'kucoinfutures', 'kuna', 'latoken', 'lbank', 'liquid', 'luno', 'lykke', 'mercado', 'mexc', 'ndax', 'novadax', 'oceanex', 'okcoin', 'okex', 'okex5', 'okx', 'paymium', 'phemex', 'poloniex', 'probit', 'qtrade', 'ripio', 'stex', 'therock', 'tidebit', 'tidex', 'timex', 'upbit', 'vcc', 'wavesexchange', 'wazirx', 'whitebit', 'woo', 'xena', 'yobit', 'zaif', 'zb', 'zipmex', 'zonda']\n",
    "    try:\n",
    "        exchange = getattr(ccxt, exchange)()\n",
    "    except AttributeError:\n",
    "        print(\"-\" * 36, \" ERROR \", \"-\" * 35)\n",
    "        print(\n",
    "            'Exchange \"{}\" not found. Please check the exchange is supported.'.format(\n",
    "                exchange\n",
    "            )\n",
    "        )\n",
    "        print(\"Supported exchanges are:\")\n",
    "        print(exchange_list)\n",
    "        print(\"-\" * 80)\n",
    "        quit()\n",
    "    data = exchange.fetch_ohlcv(symbol, timeframe, since, limit)\n",
    "    header = [\"Timestamp\", \"Open\", \"High\", \"Low\", \"Close\", \"Volume\"]\n",
    "    df = pd.DataFrame(data, columns=header)\n",
    "\n",
    "    df.Timestamp = (\n",
    "        df.Timestamp / 1000\n",
    "    ) \n",
    "    df[\"Timestamp\"] = pd.to_datetime(df.Timestamp, unit=\"s\")\n",
    "\n",
    "    df = df[[\"Timestamp\", \"Open\", \"High\", \"Low\", \"Close\", \"Volume\"]]\n",
    "\n",
    "    df[\"Open\"] = pd.to_numeric(df[\"Open\"])\n",
    "    df[\"High\"] = pd.to_numeric(df[\"High\"])\n",
    "    df[\"Low\"] = pd.to_numeric(df[\"Low\"])\n",
    "    df[\"Close\"] = pd.to_numeric(df[\"Close\"])\n",
    "    df[\"Volume\"] = pd.to_numeric(df[\"Volume\"])\n",
    "\n",
    "    return df"
   ]
  },
  {
   "cell_type": "code",
   "execution_count": 27,
   "metadata": {},
   "outputs": [
    {
     "name": "stdout",
     "output_type": "stream",
     "text": [
      "             Timestamp     Open     High      Low    Close    Volume\n",
      "0  2022-04-28 08:27:00  39495.3  39495.3  39495.3  39495.3  0.000000\n",
      "1  2022-04-28 08:28:00  39563.7  39567.2  39563.7  39567.2  1.000000\n",
      "2  2022-04-28 08:29:00  39567.2  39567.2  39567.2  39567.2  0.000000\n",
      "3  2022-04-28 08:30:00  39581.6  39587.0  39571.0  39571.0  0.112755\n",
      "4  2022-04-28 08:31:00  39571.0  39571.0  39571.0  39571.0  0.000000\n",
      "..                 ...      ...      ...      ...      ...       ...\n",
      "95 2022-04-28 10:02:00  39827.2  39827.2  39810.1  39817.7  0.200659\n",
      "96 2022-04-28 10:03:00  39817.7  39817.7  39817.7  39817.7  0.000000\n",
      "97 2022-04-28 10:04:00  39817.7  39817.7  39817.7  39817.7  0.000000\n",
      "98 2022-04-28 10:05:00  39801.3  39811.2  39801.3  39811.2  0.004215\n",
      "99 2022-04-28 10:06:00  39832.2  39840.1  39832.2  39840.1  0.025690\n",
      "\n",
      "[100 rows x 6 columns]\n"
     ]
    }
   ],
   "source": [
    "print(fetchData(\"kraken\",\"BTC/USDT\",\"1m\",30))"
   ]
  },
  {
   "cell_type": "markdown",
   "metadata": {},
   "source": [
    "## Funciones-Fecthc Order Book para los distintos apis"
   ]
  },
  {
   "cell_type": "code",
   "execution_count": 28,
   "metadata": {},
   "outputs": [
    {
     "data": {
      "text/plain": [
       "'2022-4-28'"
      ]
     },
     "execution_count": 28,
     "metadata": {},
     "output_type": "execute_result"
    }
   ],
   "source": [
    "def tim():\n",
    "    t=time.localtime(time.time())\n",
    "    return str(t[0])+\"-\"+str(t[1])+\"-\"+str(t[2])\n",
    "tim()"
   ]
  },
  {
   "cell_type": "code",
   "execution_count": 29,
   "metadata": {},
   "outputs": [],
   "source": [
    "def fetch_order_book_bitso(symbol,limit):\n",
    "    exchange = ccxt.bitso()\n",
    "    bi_btc_ob = exchange.fetch_order_book(symbol,limit=limit)\n",
    "    bi_btc_ob_time=bi_btc_ob[\"datetime\"]\n",
    "    bi_btc_ob_ask=pd.DataFrame(bi_btc_ob[\"asks\"],columns=[\"Ask\",\"AVolume\"])\n",
    "    bi_btc_ob_bid=pd.DataFrame(bi_btc_ob[\"bids\"],columns=[\"Bid\",\"BVolume\"])\n",
    "    dfk = pd.concat([bi_btc_ob_ask,  bi_btc_ob_bid],axis=1)\n",
    "    dfk[\"Timestamp\"]=bi_btc_ob_time\n",
    "    dfk['Vwap Ask'] =(np.cumsum(dfk.Ask*dfk.AVolume) / np.cumsum(dfk.AVolume))\n",
    "    dfk['Vwap Bid'] =(np.cumsum(dfk.Bid*dfk.BVolume) / np.cumsum(dfk.BVolume))\n",
    "    dfk[\"Total Volume\"]=(dfk.AVolume + dfk.BVolume)\n",
    "    dfk[\"Midprice\"]=((dfk.Ask + dfk.Bid)/2)\n",
    "    dfk['Vwap Ask'] =(np.cumsum(dfk.Ask*dfk.AVolume) / np.cumsum(dfk.AVolume))\n",
    "    dfk['Vwap Bid'] =(np.cumsum(dfk.Bid*dfk.BVolume) / np.cumsum(dfk.BVolume))\n",
    "    dfk[\"Spread\"]=(dfk.Bid - dfk.Ask)\n",
    "    \n",
    "    \n",
    "                       \n",
    "    return dfk\n"
   ]
  },
  {
   "cell_type": "code",
   "execution_count": 30,
   "metadata": {},
   "outputs": [],
   "source": [
    "def fetch_order_book_ascendex(symbol,limit):\n",
    "    exchange = ccxt.ascendex()\n",
    "    bi_btc_ob = exchange.fetch_order_book(symbol,limit=limit)\n",
    "    bi_btc_ob_time=bi_btc_ob[\"datetime\"]\n",
    "    bi_btc_ob_ask=pd.DataFrame(bi_btc_ob[\"asks\"],columns=[\"Ask\",\"AVolume\"])\n",
    "    bi_btc_ob_bid=pd.DataFrame(bi_btc_ob[\"bids\"],columns=[\"Bid\",\"BVolume\"])\n",
    "    dfk = pd.concat([bi_btc_ob_ask,  bi_btc_ob_bid],axis=1)\n",
    "    dfk[\"Timestamp\"]=bi_btc_ob_time\n",
    "    dfk['Vwap Ask'] =(np.cumsum(dfk.Ask*dfk.AVolume) / np.cumsum(dfk.AVolume))\n",
    "    dfk['Vwap Bid'] =(np.cumsum(dfk.Bid*dfk.BVolume) / np.cumsum(dfk.BVolume))\n",
    "    dfk[\"Total Volume\"]=(dfk.AVolume + dfk.BVolume)\n",
    "    dfk[\"Midprice\"]=((dfk.Ask + dfk.Bid)/2)\n",
    "    dfk['Vwap Ask'] =(np.cumsum(dfk.Ask*dfk.AVolume) / np.cumsum(dfk.AVolume))\n",
    "    dfk['Vwap Bid'] =(np.cumsum(dfk.Bid*dfk.BVolume) / np.cumsum(dfk.BVolume))\n",
    "    dfk[\"Spread\"]=(dfk.Bid - dfk.Ask)\n",
    "    \n",
    "    \n",
    "                       \n",
    "    return dfk\n"
   ]
  },
  {
   "cell_type": "code",
   "execution_count": 31,
   "metadata": {},
   "outputs": [],
   "source": [
    "def fetch_order_book_bitbay(symbol,limit):\n",
    "    exchange = ccxt.bitbay()\n",
    "    bi_btc_ob = exchange.fetch_order_book(symbol,limit=limit)\n",
    "    bi_btc_ob_time=bi_btc_ob[\"datetime\"]\n",
    "    bi_btc_ob_ask=pd.DataFrame(bi_btc_ob[\"asks\"],columns=[\"Ask\",\"AVolume\"])\n",
    "    bi_btc_ob_bid=pd.DataFrame(bi_btc_ob[\"bids\"],columns=[\"Bid\",\"BVolume\"])\n",
    "    dfk = pd.concat([bi_btc_ob_ask,  bi_btc_ob_bid],axis=1)\n",
    "    dfk[\"Timestamp\"]=bi_btc_ob_time\n",
    "    dfk['Vwap Ask'] =(np.cumsum(dfk.Ask*dfk.AVolume) / np.cumsum(dfk.AVolume))\n",
    "    dfk['Vwap Bid'] =(np.cumsum(dfk.Bid*dfk.BVolume) / np.cumsum(dfk.BVolume))\n",
    "    dfk[\"Total Volume\"]=(dfk.AVolume + dfk.BVolume)\n",
    "    dfk[\"Midprice\"]=((dfk.Ask + dfk.Bid)/2)\n",
    "    dfk['Vwap Ask'] =(np.cumsum(dfk.Ask*dfk.AVolume) / np.cumsum(dfk.AVolume))\n",
    "    dfk['Vwap Bid'] =(np.cumsum(dfk.Bid*dfk.BVolume) / np.cumsum(dfk.BVolume))\n",
    "    dfk[\"Spread\"]=(dfk.Bid - dfk.Ask)\n",
    "    \n",
    "    \n",
    "                       \n",
    "    return dfk"
   ]
  },
  {
   "cell_type": "code",
   "execution_count": 32,
   "metadata": {},
   "outputs": [],
   "source": [
    "def fetch_order_book_bitbns(symbol,limit):\n",
    "    exchange = ccxt.bitbns()\n",
    "    bi_btc_ob = exchange.fetch_order_book(symbol,limit=limit)\n",
    "    bi_btc_ob_time=bi_btc_ob[\"datetime\"]\n",
    "    bi_btc_ob_ask=pd.DataFrame(bi_btc_ob[\"asks\"],columns=[\"Ask\",\"AVolume\"])\n",
    "    bi_btc_ob_bid=pd.DataFrame(bi_btc_ob[\"bids\"],columns=[\"Bid\",\"BVolume\"])\n",
    "    dfk = pd.concat([bi_btc_ob_ask,  bi_btc_ob_bid],axis=1)\n",
    "    dfk[\"Timestamp\"]=bi_btc_ob_time\n",
    "    dfk['Vwap Ask'] =(np.cumsum(dfk.Ask*dfk.AVolume) / np.cumsum(dfk.AVolume))\n",
    "    dfk['Vwap Bid'] =(np.cumsum(dfk.Bid*dfk.BVolume) / np.cumsum(dfk.BVolume))\n",
    "    dfk[\"Total Volume\"]=(dfk.AVolume + dfk.BVolume)\n",
    "    dfk[\"Midprice\"]=((dfk.Ask + dfk.Bid)/2)\n",
    "    dfk['Vwap Ask'] =(np.cumsum(dfk.Ask*dfk.AVolume) / np.cumsum(dfk.AVolume))\n",
    "    dfk['Vwap Bid'] =(np.cumsum(dfk.Bid*dfk.BVolume) / np.cumsum(dfk.BVolume))\n",
    "    dfk[\"Spread\"]=(dfk.Bid - dfk.Ask)\n",
    "    \n",
    "    \n",
    "                       \n",
    "    return dfk"
   ]
  },
  {
   "cell_type": "code",
   "execution_count": null,
   "metadata": {},
   "outputs": [],
   "source": []
  },
  {
   "cell_type": "code",
   "execution_count": null,
   "metadata": {},
   "outputs": [],
   "source": []
  },
  {
   "cell_type": "code",
   "execution_count": null,
   "metadata": {},
   "outputs": [],
   "source": []
  },
  {
   "cell_type": "code",
   "execution_count": null,
   "metadata": {},
   "outputs": [],
   "source": []
  },
  {
   "cell_type": "code",
   "execution_count": null,
   "metadata": {},
   "outputs": [],
   "source": []
  }
 ],
 "metadata": {
  "kernelspec": {
   "display_name": "Python 3",
   "language": "python",
   "name": "python3"
  },
  "language_info": {
   "codemirror_mode": {
    "name": "ipython",
    "version": 3
   },
   "file_extension": ".py",
   "mimetype": "text/x-python",
   "name": "python",
   "nbconvert_exporter": "python",
   "pygments_lexer": "ipython3",
   "version": "3.8.3"
  }
 },
 "nbformat": 4,
 "nbformat_minor": 4
}
