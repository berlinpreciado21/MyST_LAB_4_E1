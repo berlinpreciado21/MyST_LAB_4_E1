{
 "cells": [
  {
   "cell_type": "code",
   "execution_count": 48,
   "metadata": {},
   "outputs": [],
   "source": [
    "import ccxt\n",
    "from datetime import datetime\n",
    "import pandas as pd\n",
    "from sympy import Limit\n",
    "import numpy as np\n",
    "import time\n",
    "\n"
   ]
  },
  {
   "cell_type": "markdown",
   "metadata": {},
   "source": [
    "## Fetch Ohlcv"
   ]
  },
  {
   "cell_type": "code",
   "execution_count": 49,
   "metadata": {},
   "outputs": [],
   "source": [
    "def fetchData(exchange, symbol, timeframe, since=\"26-04-2022\", limit=100):\n",
    "    exchange_list = [\n",
    "        'aax', \n",
    "        'ascendex', \n",
    "        'bequant', \n",
    "        'bibox',\n",
    "        'bigone',\n",
    "        'binance',\n",
    "        'binancecoinm',\n",
    "        'binanceus',\n",
    "        'binanceusdm', \n",
    "        'bit2c', \n",
    "        'bitbank',\n",
    "        'bitbay',\n",
    "        'bitbns',\n",
    "        'bitcoincom', \n",
    "        'bitfinex',\n",
    "        'bitfinex2',\n",
    "        'bitflyer', \n",
    "        'bitforex', \n",
    "        'bitget', \n",
    "        'bithumb', \n",
    "        'bitmart',\n",
    "        'bitmex',\n",
    "        'bitopro',\n",
    "        'bitpanda', \n",
    "        'bitrue', \n",
    "        'bitso',\n",
    "        'bitstamp', \n",
    "        'bitstamp1', 'bittrex', 'bitvavo', 'bkex', 'bl3p', 'blockchaincom', 'btcalpha', 'btcbox', 'btcmarkets', 'btctradeua', 'btcturk', 'buda', 'bw', 'bybit', 'bytetrade', 'cdax', 'cex', 'coinbase', 'coinbaseprime', 'coinbasepro', 'coincheck', 'coinex', 'coinfalcon', 'coinmate', 'coinone', 'coinspot', 'crex24', 'cryptocom', 'currencycom', 'delta', 'deribit', 'digifinex', 'eqonex', 'exmo', 'flowbtc', 'fmfwio', 'ftx', 'ftxus', 'gateio', 'gemini', 'hitbtc', 'hitbtc3', 'hollaex', 'huobi', 'huobijp', 'huobipro', 'idex', 'independentreserve', 'indodax', 'itbit', 'kraken', 'kucoin', 'kucoinfutures', 'kuna', 'latoken', 'lbank', 'liquid', 'luno', 'lykke', 'mercado', 'mexc', 'ndax', 'novadax', 'oceanex', 'okcoin', 'okex', 'okex5', 'okx', 'paymium', 'phemex', 'poloniex', 'probit', 'qtrade', 'ripio', 'stex', 'therock', 'tidebit', 'tidex', 'timex', 'upbit', 'vcc', 'wavesexchange', 'wazirx', 'whitebit', 'woo', 'xena', 'yobit', 'zaif', 'zb', 'zipmex', 'zonda']\n",
    "    try:\n",
    "        exchange = getattr(ccxt, exchange)()\n",
    "    except AttributeError:\n",
    "        print(\"-\" * 36, \" ERROR \", \"-\" * 35)\n",
    "        print(\n",
    "            'Exchange \"{}\" not found. Please check the exchange is supported.'.format(\n",
    "                exchange\n",
    "            )\n",
    "        )\n",
    "        print(\"Supported exchanges are:\")\n",
    "        print(exchange_list)\n",
    "        print(\"-\" * 80)\n",
    "        quit()\n",
    "    data = exchange.fetch_ohlcv(symbol, timeframe, since, limit)\n",
    "    header = [\"Timestamp\", \"Open\", \"High\", \"Low\", \"Close\", \"Volume\"]\n",
    "    df = pd.DataFrame(data, columns=header)\n",
    "\n",
    "    df.Timestamp = (\n",
    "        df.Timestamp / 1000\n",
    "    ) \n",
    "    df[\"Timestamp\"] = pd.to_datetime(df.Timestamp, unit=\"s\")\n",
    "\n",
    "    df = df[[\"Timestamp\", \"Open\", \"High\", \"Low\", \"Close\", \"Volume\"]]\n",
    "\n",
    "    df[\"Open\"] = pd.to_numeric(df[\"Open\"])\n",
    "    df[\"High\"] = pd.to_numeric(df[\"High\"])\n",
    "    df[\"Low\"] = pd.to_numeric(df[\"Low\"])\n",
    "    df[\"Close\"] = pd.to_numeric(df[\"Close\"])\n",
    "    df[\"Volume\"] = pd.to_numeric(df[\"Volume\"])\n",
    "\n",
    "    return df"
   ]
  },
  {
   "cell_type": "markdown",
   "metadata": {},
   "source": [
    "## Funciones-Fecthc Order Book para los distintos apis"
   ]
  },
  {
   "cell_type": "code",
   "execution_count": 52,
   "metadata": {},
   "outputs": [
    {
     "data": {
      "text/plain": [
       "'2022-4-28'"
      ]
     },
     "execution_count": 52,
     "metadata": {},
     "output_type": "execute_result"
    }
   ],
   "source": [
    "def tim():\n",
    "    t=time.localtime(time.time())\n",
    "    return str(t[0])+\"-\"+str(t[1])+\"-\"+str(t[2])\n",
    "tim()"
   ]
  },
  {
   "cell_type": "code",
   "execution_count": 53,
   "metadata": {},
   "outputs": [],
   "source": [
    "def fetch_order_book_bitso(symbol,limit):\n",
    "    exchange = ccxt.bitso()\n",
    "    bi_btc_ob = exchange.fetch_order_book(symbol,limit=limit)\n",
    "    bi_btc_ob_time=bi_btc_ob[\"datetime\"]\n",
    "    bi_btc_ob_ask=pd.DataFrame(bi_btc_ob[\"asks\"],columns=[\"Ask\",\"AVolume\"])\n",
    "    bi_btc_ob_bid=pd.DataFrame(bi_btc_ob[\"bids\"],columns=[\"Bid\",\"BVolume\"])\n",
    "    dfk = pd.concat([bi_btc_ob_ask,  bi_btc_ob_bid],axis=1)\n",
    "    dfk[\"Timestamp\"]=bi_btc_ob_time\n",
    "    dfk['Vwap Ask'] =(np.cumsum(dfk.Ask*dfk.AVolume) / np.cumsum(dfk.AVolume))\n",
    "    dfk['Vwap Bid'] =(np.cumsum(dfk.Bid*dfk.BVolume) / np.cumsum(dfk.BVolume))\n",
    "    dfk[\"Total Volume\"]=(dfk.AVolume + dfk.BVolume)\n",
    "    dfk[\"Midprice\"]=((dfk.Ask + dfk.Bid)/2)\n",
    "    dfk['Vwap Ask'] =(np.cumsum(dfk.Ask*dfk.AVolume) / np.cumsum(dfk.AVolume))\n",
    "    dfk['Vwap Bid'] =(np.cumsum(dfk.Bid*dfk.BVolume) / np.cumsum(dfk.BVolume))\n",
    "    dfk[\"Spread\"]=(dfk.Bid - dfk.Ask)\n",
    "    SA=(-(((dfk.Bid+dfk.Ask)/2)/2)**2)\n",
    "    dfk[\"Roll Spread\"]=(np.sqrt(-SA))*2\n",
    "                       \n",
    "    return dfk"
   ]
  },
  {
   "cell_type": "code",
   "execution_count": 54,
   "metadata": {},
   "outputs": [],
   "source": [
    "def fetch_order_book_ascendex(symbol,limit):\n",
    "    exchange = ccxt.ascendex()\n",
    "    bi_btc_ob = exchange.fetch_order_book(symbol,limit=limit)\n",
    "    bi_btc_ob_time=bi_btc_ob[\"datetime\"]\n",
    "    bi_btc_ob_ask=pd.DataFrame(bi_btc_ob[\"asks\"],columns=[\"Ask\",\"AVolume\"])\n",
    "    bi_btc_ob_bid=pd.DataFrame(bi_btc_ob[\"bids\"],columns=[\"Bid\",\"BVolume\"])\n",
    "    dfk = pd.concat([bi_btc_ob_ask,  bi_btc_ob_bid],axis=1)\n",
    "    dfk[\"Timestamp\"]=bi_btc_ob_time\n",
    "    dfk['Vwap Ask'] =(np.cumsum(dfk.Ask*dfk.AVolume) / np.cumsum(dfk.AVolume))\n",
    "    dfk['Vwap Bid'] =(np.cumsum(dfk.Bid*dfk.BVolume) / np.cumsum(dfk.BVolume))\n",
    "    dfk[\"Total Volume\"]=(dfk.AVolume + dfk.BVolume)\n",
    "    dfk[\"Midprice\"]=((dfk.Ask + dfk.Bid)/2)\n",
    "    dfk['Vwap Ask'] =(np.cumsum(dfk.Ask*dfk.AVolume) / np.cumsum(dfk.AVolume))\n",
    "    dfk['Vwap Bid'] =(np.cumsum(dfk.Bid*dfk.BVolume) / np.cumsum(dfk.BVolume))\n",
    "    dfk[\"Spread\"]=(dfk.Bid - dfk.Ask)\n",
    "    SA=(-(((dfk.Bid+dfk.Ask)/2)/2)**2)\n",
    "    dfk[\"Roll Spread\"]=(np.sqrt(-SA))*2\n",
    "                      \n",
    "    return dfk"
   ]
  },
  {
   "cell_type": "code",
   "execution_count": 55,
   "metadata": {},
   "outputs": [],
   "source": [
    "def fetch_order_book_bitbay(symbol,limit):\n",
    "    exchange = ccxt.bitbay()\n",
    "    bi_btc_ob = exchange.fetch_order_book(symbol,limit=limit)\n",
    "    bi_btc_ob_time=bi_btc_ob[\"datetime\"]\n",
    "    bi_btc_ob_ask=pd.DataFrame(bi_btc_ob[\"asks\"],columns=[\"Ask\",\"AVolume\"])\n",
    "    bi_btc_ob_bid=pd.DataFrame(bi_btc_ob[\"bids\"],columns=[\"Bid\",\"BVolume\"])\n",
    "    dfk = pd.concat([bi_btc_ob_ask,  bi_btc_ob_bid],axis=1)\n",
    "    dfk[\"Timestamp\"]=bi_btc_ob_time\n",
    "    dfk['Vwap Ask'] =(np.cumsum(dfk.Ask*dfk.AVolume) / np.cumsum(dfk.AVolume))\n",
    "    dfk['Vwap Bid'] =(np.cumsum(dfk.Bid*dfk.BVolume) / np.cumsum(dfk.BVolume))\n",
    "    dfk[\"Total Volume\"]=(dfk.AVolume + dfk.BVolume)\n",
    "    dfk[\"Midprice\"]=((dfk.Ask + dfk.Bid)/2)\n",
    "    dfk['Vwap Ask'] =(np.cumsum(dfk.Ask*dfk.AVolume) / np.cumsum(dfk.AVolume))\n",
    "    dfk['Vwap Bid'] =(np.cumsum(dfk.Bid*dfk.BVolume) / np.cumsum(dfk.BVolume))\n",
    "    dfk[\"Spread\"]=(dfk.Bid - dfk.Ask)\n",
    "    SA=(-(((dfk.Bid+dfk.Ask)/2)/2)**2)\n",
    "    dfk[\"Roll Spread\"]=(np.sqrt(-SA))*2\n",
    "    \n",
    "                       \n",
    "    return dfk"
   ]
  },
  {
   "cell_type": "code",
   "execution_count": 32,
   "metadata": {},
   "outputs": [],
   "source": [
    "def fetch_order_book_bitbns(symbol,limit):\n",
    "    exchange = ccxt.bitbns()\n",
    "    bi_btc_ob = exchange.fetch_order_book(symbol,limit=limit)\n",
    "    bi_btc_ob_time=bi_btc_ob[\"datetime\"]\n",
    "    bi_btc_ob_ask=pd.DataFrame(bi_btc_ob[\"asks\"],columns=[\"Ask\",\"AVolume\"])\n",
    "    bi_btc_ob_bid=pd.DataFrame(bi_btc_ob[\"bids\"],columns=[\"Bid\",\"BVolume\"])\n",
    "    dfk = pd.concat([bi_btc_ob_ask,  bi_btc_ob_bid],axis=1)\n",
    "    dfk[\"Timestamp\"]=bi_btc_ob_time\n",
    "    dfk['Vwap Ask'] =(np.cumsum(dfk.Ask*dfk.AVolume) / np.cumsum(dfk.AVolume))\n",
    "    dfk['Vwap Bid'] =(np.cumsum(dfk.Bid*dfk.BVolume) / np.cumsum(dfk.BVolume))\n",
    "    dfk[\"Total Volume\"]=(dfk.AVolume + dfk.BVolume)\n",
    "    dfk[\"Midprice\"]=((dfk.Ask + dfk.Bid)/2)\n",
    "    dfk['Vwap Ask'] =(np.cumsum(dfk.Ask*dfk.AVolume) / np.cumsum(dfk.AVolume))\n",
    "    dfk['Vwap Bid'] =(np.cumsum(dfk.Bid*dfk.BVolume) / np.cumsum(dfk.BVolume))\n",
    "    dfk[\"Spread\"]=(dfk.Bid - dfk.Ask)\n",
    "    SA=(-(((dfk.Bid+dfk.Ask)/2)/2)**2)\n",
    "    dfk[\"Roll Spread\"]=(np.sqrt(-SA))*2\n",
    "    \n",
    "    return dfk"
   ]
  }
 ],
 "metadata": {
  "kernelspec": {
   "display_name": "Python 3",
   "language": "python",
   "name": "python3"
  },
  "language_info": {
   "codemirror_mode": {
    "name": "ipython",
    "version": 3
   },
   "file_extension": ".py",
   "mimetype": "text/x-python",
   "name": "python",
   "nbconvert_exporter": "python",
   "pygments_lexer": "ipython3",
   "version": "3.8.3"
  }
 },
 "nbformat": 4,
 "nbformat_minor": 4
}
