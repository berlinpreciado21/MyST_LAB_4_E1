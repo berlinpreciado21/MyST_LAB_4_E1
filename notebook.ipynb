{
 "cells": [
  {
   "cell_type": "markdown",
   "metadata": {},
   "source": [
    "<center> <img src=\"http://oci02.img.iteso.mx/identidad_de_instancia_2018/ITESO/Logos%20ITESO/Logo-ITESO-Principal.jpg\" align=\"center\" width=\"960\" height=\"480\"/> </center>"
   ]
  },
  {
   "cell_type": "markdown",
   "metadata": {},
   "source": [
    "<center><font color=#555555><font size=6> MAF1731 - Microstructura y Sistemas de trading </font> <br> <br>\n",
    "    \n",
    "<center><font color=#555555><font size=5> Ingeniería Financiera </font> <br> <br> <br> <br>\n",
    "\n",
    "<center><font color=#555555><font size=6> I.F. Berlín Isabel Preciado Escalera </font> <br> <br>\n",
    "   \n",
    "<center> <font color= #555555> <font size = 4> Abril 2022 </a> | <font color= #555555> <font size = 4> Repository: <a href='https://github.com/berlinpreciado21/MyST_LAB_4_E1'>Link</a></font>"
   ]
  },
  {
   "cell_type": "markdown",
   "metadata": {},
   "source": [
    "<hr style=\"border:0.02in solid gray\"> </hr>"
   ]
  },
  {
   "cell_type": "markdown",
   "metadata": {},
   "source": [
    "<center> <font color= #555555> <font size = 6> Lab 4 </font> <br> <br> <font color= #555555> <font size = 5> Microestructura del mercado </font>"
   ]
  },
  {
   "cell_type": "markdown",
   "metadata": {},
   "source": [
    "<hr style=\"border:0.02in solid gray\"> </hr>"
   ]
  },
  {
   "cell_type": "markdown",
   "metadata": {},
   "source": [
    "<br>"
   ]
  },
  {
   "cell_type": "markdown",
   "metadata": {},
   "source": [
    "<font color= #555555> <font size = 4> Resumen </font>"
   ]
  },
  {
   "cell_type": "markdown",
   "metadata": {},
   "source": [
    "    \n",
    "<font color= #6B6B6B> <font size = 3>  El siguiente documento, presenta los resultados adquiridos de las apis y de las distintas criptomonedas, además de que se realiza una comparación mediante distintas métricas como es el spread, roll spread, y el volumen, mediante cada posición, que sería el **ask** y el **bid.**</font>"
   ]
  },
  {
   "cell_type": "markdown",
   "metadata": {},
   "source": [
    "<br>"
   ]
  },
  {
   "cell_type": "markdown",
   "metadata": {},
   "source": [
    "# <font color= #6B6B6B> <font size = 6> 1. Introducción </font>"
   ]
  },
  {
   "cell_type": "markdown",
   "metadata": {},
   "source": [
    "<hr style=\"border:0.02in solid gray\"> </hr>"
   ]
  },
  {
   "cell_type": "markdown",
   "metadata": {},
   "source": [
    "This is an introduction, normally, it is done at the very end, when all the other content in the notebook is completed but just before the abstract (which is short version of the introduction) ... "
   ]
  },
  {
   "cell_type": "markdown",
   "metadata": {},
   "source": [
    "<br>"
   ]
  },
  {
   "cell_type": "markdown",
   "metadata": {},
   "source": [
    "# <font color= #6B6B6B> 2. Paqueterias y dependencias </font>"
   ]
  },
  {
   "cell_type": "markdown",
   "metadata": {},
   "source": [
    "Para correr este Notebook es necesaria tener instalar las librerías contenidas en requirements.txt:\n",
    "\n",
    "- pandas>=1.1.1\n",
    "- numpy>=1.19.1\n",
    "- jupyter>=1.0.0\n",
    "- datetime\n",
    "- plotly>=4.14\n",
    "- datetime"
   ]
  },
  {
   "cell_type": "markdown",
   "metadata": {},
   "source": [
    "<hr style=\"border:0.02in solid gray\"> </hr>"
   ]
  },
  {
   "cell_type": "markdown",
   "metadata": {},
   "source": [
    "<br>"
   ]
  },
  {
   "cell_type": "markdown",
   "metadata": {},
   "source": [
    "## <font color= #6E6E6E> 2.1 Instalar paqueterias</font>"
   ]
  },
  {
   "cell_type": "code",
   "execution_count": 32,
   "metadata": {},
   "outputs": [],
   "source": [
    "#Importar librarias\n",
    "import pandas as pd\n",
    "import datetime\n",
    "import ccxt\n",
    "from datetime import datetime\n",
    "from sympy import Limit\n",
    "import numpy as np\n",
    "import time\n",
    "import plotly.graph_objects as go\n",
    "import matplotlib.pyplot as plt\n",
    "\n",
    "#Estructura\n",
    "import functions as fn\n",
    "#import data as dt\n",
    "#import main as mn\n",
    "#import visualizations as vn\n",
    "\n"
   ]
  },
  {
   "cell_type": "markdown",
   "metadata": {},
   "source": [
    "<br>"
   ]
  },
  {
   "cell_type": "markdown",
   "metadata": {},
   "source": [
    "# <font color= #6B6B6B> 3. Descripción de los datos </font>"
   ]
  },
  {
   "cell_type": "markdown",
   "metadata": {},
   "source": [
    "<hr style=\"border:0.02in solid gray\"> </hr>"
   ]
  },
  {
   "cell_type": "markdown",
   "metadata": {},
   "source": [
    "Los datos que se extraen, son datos obtenidos de distintas plataformas que manejan **criptomonedas**, las apis que utilizaremos son las siguietes:\n",
    "- Bitso\n",
    "- Ascendex\n",
    "- Bitbay\n",
    "- Bitbns\n",
    "\n",
    "Además se utilizarán las criptomonedas(simbolos) de **BTC**,**LTC** y **EOS**.\n",
    "\n",
    "Se obtendrán los datos de **bid** que es el precio más alto que el comprador está dispuesto a pagar, y el **ask** que es  el precio más bajo al que el vendedor está dispuesto a vender. Apartir de esas variables, se obtendrán distintas métricas que nos podrán ayudar a tomar decisiones a la hora de hacer operaciones en el mercado de criptomonedas.\n",
    "\n"
   ]
  },
  {
   "cell_type": "markdown",
   "metadata": {},
   "source": [
    "<br>"
   ]
  },
  {
   "cell_type": "markdown",
   "metadata": {},
   "source": [
    "# <font color= #6B6B6B> 4. Proceso </font>"
   ]
  },
  {
   "cell_type": "markdown",
   "metadata": {},
   "source": [
    "<hr style=\"border:0.02in solid gray\"> </hr>"
   ]
  },
  {
   "cell_type": "markdown",
   "metadata": {},
   "source": [
    "En el siguiente apartado se mostrarán los resultados obtenidos al calcular las siguientes métricas:\n",
    "\n",
    "El **Midprice** mediante el uso de los precios de *ask* y *bid*.\n",
    "$$ Midprice =  \\frac{Ask - Bid}{2}$$"
   ]
  },
  {
   "cell_type": "markdown",
   "metadata": {},
   "source": [
    "El **VWAP**, donde se utiliza el ask (precio) y el bid(precio), así como su volumen.   \n",
    "$$ VWAP = \\frac{\\sum (Volumen * Precio)}{\\sum Volumen}$$"
   ]
  },
  {
   "cell_type": "markdown",
   "metadata": {},
   "source": [
    "El **Spread**, donde se resta el precio de bid y ask.\n",
    "\n",
    "$$ Spread   = \\ Bid  - Ask $$\n"
   ]
  },
  {
   "cell_type": "markdown",
   "metadata": {},
   "source": [
    "## Datos de la criptomoneda *BTC/USDT*"
   ]
  },
  {
   "cell_type": "code",
   "execution_count": null,
   "metadata": {},
   "outputs": [],
   "source": []
  },
  {
   "cell_type": "code",
   "execution_count": 23,
   "metadata": {},
   "outputs": [],
   "source": [
    "##Bitso\n",
    "fb=fn.fetch_order_book_bitso('BTC/USDT',30)\n",
    "fb1=pd.DataFrame(fb[:30])"
   ]
  },
  {
   "cell_type": "code",
   "execution_count": 24,
   "metadata": {},
   "outputs": [],
   "source": [
    "#Ascendex\n",
    "fa=fn.fetch_order_book_ascendex('BTC/USDT',30)\n",
    "fa1=pd.DataFrame(fa[:30])"
   ]
  },
  {
   "cell_type": "code",
   "execution_count": 25,
   "metadata": {},
   "outputs": [],
   "source": [
    "#Bitbay\n",
    "fbi=fn.fetch_order_book_bitbay('BTC/USDT',30)\n",
    "fbi1=pd.DataFrame(fbi[:30])"
   ]
  },
  {
   "cell_type": "code",
   "execution_count": 26,
   "metadata": {},
   "outputs": [],
   "source": [
    "#Bitbns\n",
    "fbt=fn.fetch_order_book_bitbns('BTC/USDT',30)\n",
    "fbt1=pd.DataFrame(fbt[:30])"
   ]
  },
  {
   "cell_type": "code",
   "execution_count": 36,
   "metadata": {},
   "outputs": [
    {
     "name": "stdout",
     "output_type": "stream",
     "text": [
      "         Ask   AVolume       Bid   BVolume Exchange                 Timestamp  \\\n",
      "0   39765.79   1.00000  39727.54   5.00000    Bitso  2022-04-29T00:00:25.000Z   \n",
      "1   39771.81   5.00000  39727.32  10.00000    Bitso  2022-04-29T00:00:25.000Z   \n",
      "2   39775.22   3.00000  39726.35   1.00000    Bitso  2022-04-29T00:00:25.000Z   \n",
      "3   39782.02  10.00000  39722.68   3.00000    Bitso  2022-04-29T00:00:25.000Z   \n",
      "4   39798.65  10.00000  39699.27  10.00000    Bitso  2022-04-29T00:00:25.000Z   \n",
      "..       ...       ...       ...       ...      ...                       ...   \n",
      "5   39831.26   0.82863  39707.03   0.06347   Bitbns  2022-04-29T00:00:33.114Z   \n",
      "6   40424.94   0.78816  39587.76   0.24716   Bitbns  2022-04-29T00:00:33.114Z   \n",
      "7   40424.95   0.33205  39586.82   0.14447   Bitbns  2022-04-29T00:00:33.114Z   \n",
      "8   40425.07   0.68912  39586.06   0.06412   Bitbns  2022-04-29T00:00:33.114Z   \n",
      "9   40425.27   0.21123  39257.49   0.82976   Bitbns  2022-04-29T00:00:33.114Z   \n",
      "\n",
      "        Vwap Ask      Vwap Bid  Total Volume   Midprice   Spread  Roll Spread  \n",
      "0   39765.790000  39727.540000       6.00000  39746.665   -38.25    39746.665  \n",
      "1   39770.806667  39727.393333      15.00000  39749.565   -44.49    39749.565  \n",
      "2   39772.277778  39727.328125       4.00000  39750.785   -48.87    39750.785  \n",
      "3   39777.405263  39726.594211      13.00000  39752.350   -59.34    39752.350  \n",
      "4   39784.731034  39717.172069      20.00000  39748.960   -99.38    39748.960  \n",
      "..           ...           ...           ...        ...      ...          ...  \n",
      "5   39830.378557  39709.314384       0.89210  39769.145  -124.23    39769.145  \n",
      "6   39934.680896  39697.926205       1.03532  40006.350  -837.18    40006.350  \n",
      "7   39968.421604  39692.157654       0.47652  40005.885  -838.13    40005.885  \n",
      "8   40025.492198  39689.767884       0.75324  40005.565  -839.01    40005.565  \n",
      "9   40040.241912  39592.205032       1.04099  39841.380 -1167.78    39841.380  \n",
      "\n",
      "[100 rows x 12 columns]\n"
     ]
    }
   ],
   "source": [
    "#Final\n",
    "final = pd.concat([fb1,fa1,fbi1,fbt1],axis=0)\n",
    "fnl=pd.DataFrame(final[:100])\n",
    "print(fnl)"
   ]
  },
  {
   "cell_type": "code",
   "execution_count": null,
   "metadata": {},
   "outputs": [],
   "source": [
    "import plotly.express as px\n",
    "\n",
    "df2= fnl[fnl[\"E\"]]\n"
   ]
  },
  {
   "cell_type": "markdown",
   "metadata": {},
   "source": [
    "## Datos de la criptomoneda *LTC/USD*"
   ]
  },
  {
   "cell_type": "code",
   "execution_count": null,
   "metadata": {},
   "outputs": [],
   "source": [
    "##Bitso\n",
    "fbe=fn.fetch_order_book_bitso('LTC/USD',30)\n",
    "pd.DataFrame(fbe[:30])"
   ]
  },
  {
   "cell_type": "code",
   "execution_count": null,
   "metadata": {},
   "outputs": [],
   "source": [
    "#Ascendex\n",
    "fa=fn.fetch_order_book_ascendex('LTC/USDT',30)\n",
    "#pd.DataFrame(fa[:30])"
   ]
  },
  {
   "cell_type": "code",
   "execution_count": null,
   "metadata": {},
   "outputs": [],
   "source": [
    "#Bitbay\n",
    "fbi=fn.fetch_order_book_bitbay(\"LTC/USDT\",30)\n",
    "#pd.DataFrame(fbi[:30])"
   ]
  },
  {
   "cell_type": "code",
   "execution_count": null,
   "metadata": {},
   "outputs": [],
   "source": [
    "#Bitbns\n",
    "fbt=fn.fetch_order_book_bitbns('LTC/USDT',30)\n",
    "pd.DataFrame(fbt[:30])"
   ]
  },
  {
   "cell_type": "markdown",
   "metadata": {},
   "source": [
    "## Datos de la criptomoneda *EOS/USD*"
   ]
  },
  {
   "cell_type": "code",
   "execution_count": null,
   "metadata": {},
   "outputs": [],
   "source": [
    "##Bitso\n",
    "fbe=fn.fetch_order_book_bitso('XRP/USD',30)\n",
    "#pd.DataFrame(fbe[:30])"
   ]
  },
  {
   "cell_type": "code",
   "execution_count": null,
   "metadata": {},
   "outputs": [],
   "source": [
    "#Ascendex\n",
    "fa=fn.fetch_order_book_ascendex('XRP/USDT',30)\n",
    "#pd.DataFrame(fa[:30])"
   ]
  },
  {
   "cell_type": "code",
   "execution_count": null,
   "metadata": {},
   "outputs": [],
   "source": [
    "#Bitbay\n",
    "fbi=fn.fetch_order_book_bitbay(\"XRP/USDT\",30)\n",
    "#pd.DataFrame(fbi[:30])"
   ]
  },
  {
   "cell_type": "code",
   "execution_count": null,
   "metadata": {},
   "outputs": [],
   "source": [
    "#Bitbns\n",
    "fbt=fn.fetch_order_book_bitbns('XRP/USDT',30)\n",
    "#pd.DataFrame(fbt[:30])"
   ]
  },
  {
   "cell_type": "markdown",
   "metadata": {},
   "source": [
    "<br>"
   ]
  },
  {
   "cell_type": "markdown",
   "metadata": {},
   "source": [
    "# <font color= #6B6B6B> 5. Another particular Process  </font>"
   ]
  },
  {
   "cell_type": "markdown",
   "metadata": {},
   "source": [
    "<hr style=\"border:0.02in solid gray\"> </hr>"
   ]
  },
  {
   "cell_type": "code",
   "execution_count": null,
   "metadata": {},
   "outputs": [],
   "source": [
    "# DELETE THIS CELL IN YOUR FILE\n",
    "\n",
    "# Another particular process that is relevant for the work. Normally, you include between 2 and 5 at the most."
   ]
  },
  {
   "cell_type": "markdown",
   "metadata": {},
   "source": [
    "<br>"
   ]
  },
  {
   "cell_type": "markdown",
   "metadata": {},
   "source": [
    "# <font color= #6B6B6B> <font size = 6> 5. Results </font>"
   ]
  },
  {
   "cell_type": "markdown",
   "metadata": {},
   "source": [
    "<hr style=\"border:0.02in solid gray\"> </hr>"
   ]
  },
  {
   "cell_type": "code",
   "execution_count": null,
   "metadata": {},
   "outputs": [],
   "source": [
    "# DELETE THIS CELL IN YOUR FILE\n",
    "\n",
    "# In here you present the general results, and also, a discussion of such results."
   ]
  },
  {
   "cell_type": "markdown",
   "metadata": {},
   "source": [
    "<br>"
   ]
  },
  {
   "cell_type": "markdown",
   "metadata": {},
   "source": [
    "## <font color= #6B6B6B> 5.1 Results of first processes </font>"
   ]
  },
  {
   "cell_type": "code",
   "execution_count": null,
   "metadata": {},
   "outputs": [],
   "source": [
    "# DELETE THIS CELL IN YOUR FILE\n",
    "\n",
    "# Separate your results according to the main processes you are working on"
   ]
  },
  {
   "cell_type": "markdown",
   "metadata": {},
   "source": [
    "<br>"
   ]
  },
  {
   "cell_type": "markdown",
   "metadata": {},
   "source": [
    "## <font color= #6B6B6B> 5.2 Results of another proces </font>"
   ]
  },
  {
   "cell_type": "code",
   "execution_count": null,
   "metadata": {},
   "outputs": [],
   "source": [
    "# DELETE THIS CELL IN YOUR FILE\n",
    "\n",
    "# You can have several processes with which you are obtaining the results you need."
   ]
  },
  {
   "cell_type": "markdown",
   "metadata": {},
   "source": [
    "<br>"
   ]
  },
  {
   "cell_type": "markdown",
   "metadata": {},
   "source": [
    "# <font color= #6B6B6B> <font size = 6> 6. References </font>"
   ]
  },
  {
   "cell_type": "markdown",
   "metadata": {},
   "source": [
    "<hr style=\"border:0.02in solid gray\"> </hr>"
   ]
  },
  {
   "cell_type": "code",
   "execution_count": null,
   "metadata": {},
   "outputs": [],
   "source": [
    "# DELETE THIS CELL IN YOUR FILE\n",
    "\n",
    "# Citations, and other references you are using.\n",
    "\n",
    "# DO INCLUDE THE FOLLOWING CITATION FOR THIS TEMPLATE"
   ]
  },
  {
   "cell_type": "markdown",
   "metadata": {},
   "source": [
    "[1] Munnoz, 2020. Python project template. https://github.com/iffranciscome/python-project. (2021)."
   ]
  },
  {
   "cell_type": "markdown",
   "metadata": {},
   "source": [
    "<br>"
   ]
  },
  {
   "cell_type": "markdown",
   "metadata": {},
   "source": [
    "# <font color= red> TESTS (DO NOT INCLUDE IN THE FINAL NOTEBOOK) </font>"
   ]
  },
  {
   "cell_type": "markdown",
   "metadata": {},
   "source": [
    "<hr style=\"border:0.02in solid red\"> </hr>"
   ]
  },
  {
   "cell_type": "markdown",
   "metadata": {},
   "source": [
    "Next are a series of tests to verify that everything is working ok. From correctly installed and loaded packages, to import other scripts, print plots with plotly"
   ]
  },
  {
   "cell_type": "code",
   "execution_count": null,
   "metadata": {},
   "outputs": [],
   "source": [
    "import pandas as pd\n",
    "import data as dt"
   ]
  },
  {
   "cell_type": "code",
   "execution_count": null,
   "metadata": {},
   "outputs": [],
   "source": [
    "# -- TEST 1 : \n",
    "# verify that the script is being read\n",
    "print(dt.dict_test)"
   ]
  },
  {
   "cell_type": "code",
   "execution_count": null,
   "metadata": {},
   "outputs": [],
   "source": [
    "# -- TEST 2 :\n",
    "# verify that installed pandas module works correctly\n",
    "df_dict_test = pd.DataFrame(dt.dict_test, index=[0,1])\n",
    "print(df_dict_test)"
   ]
  },
  {
   "cell_type": "code",
   "execution_count": null,
   "metadata": {},
   "outputs": [],
   "source": [
    "# -- TEST 3 :\n",
    "# verify you can use plotly and visualize plots in jupyter notebook\n",
    "\n",
    "from plotly.offline import iplot   # print the plot inside jupyter and offline\n",
    "import plotly.graph_objects as go  # functions to create plots\n",
    "\n",
    "# example data\n",
    "df = pd.DataFrame({'column_a': [1, 2, 3, 4, 5], 'column_b': [1, 2, 3, 4, 5]})\n",
    "# basic plotly plot\n",
    "data = [go.Bar(x=df['column_a'], y=df['column_b'])]\n",
    "\n",
    "# instruction to view it inside jupyter\n",
    "iplot(data)"
   ]
  },
  {
   "cell_type": "code",
   "execution_count": null,
   "metadata": {},
   "outputs": [],
   "source": [
    "# -- TEST 4 :\n",
    "# verify you can use plotly and visualize plots in web browser locally\n",
    "\n",
    "import plotly.io as pio            # to define input-output of plots\n",
    "pio.renderers.default = \"browser\"  # to render the plot locally in your default web browser\n",
    "\n",
    "# basic plotly plot\n",
    "plot_data = go.Figure(go.Bar(x=df['column_a'], y=df['column_b']))\n",
    "\n",
    "# instruction to view it in specified render (in this case browser)\n",
    "plot_data.show()"
   ]
  }
 ],
 "metadata": {
  "kernelspec": {
   "display_name": "Python 3",
   "language": "python",
   "name": "python3"
  },
  "language_info": {
   "codemirror_mode": {
    "name": "ipython",
    "version": 3
   },
   "file_extension": ".py",
   "mimetype": "text/x-python",
   "name": "python",
   "nbconvert_exporter": "python",
   "pygments_lexer": "ipython3",
   "version": "3.8.3"
  }
 },
 "nbformat": 4,
 "nbformat_minor": 4
}
