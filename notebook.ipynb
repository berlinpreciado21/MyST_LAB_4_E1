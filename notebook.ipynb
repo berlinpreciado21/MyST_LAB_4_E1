{
 "cells": [
  {
   "cell_type": "markdown",
   "metadata": {},
   "source": [
    "<center> <img src=\"http://oci02.img.iteso.mx/identidad_de_instancia_2018/ITESO/Logos%20ITESO/Logo-ITESO-Principal.jpg\" align=\"center\" width=\"960\" height=\"480\"/> </center>"
   ]
  },
  {
   "cell_type": "markdown",
   "metadata": {},
   "source": [
    "<center><font color=#555555><font size=6> MAF1731 - Microstructura y Sistemas de trading </font> <br> <br>\n",
    "    \n",
    "<center><font color=#555555><font size=5> Ingeniería Financiera </font> <br> <br> <br> <br>\n",
    "\n",
    "<center><font color=#555555><font size=6> I.F. Berlín Isabel Preciado Escalera </font> <br> <br>\n",
    "   \n",
    "<center> <font color= #555555> <font size = 4> Abril 2022 </a> | <font color= #555555> <font size = 4> Repository: <a href='https://github.com/berlinpreciado21/MyST_LAB_4_E1'>Link</a></font>"
   ]
  },
  {
   "cell_type": "markdown",
   "metadata": {},
   "source": [
    "<hr style=\"border:0.02in solid gray\"> </hr>"
   ]
  },
  {
   "cell_type": "markdown",
   "metadata": {},
   "source": [
    "<center> <font color= #555555> <font size = 6> Lab 4 </font> <br> <br> <font color= #555555> <font size = 5> Microestructura del mercado </font>"
   ]
  },
  {
   "cell_type": "markdown",
   "metadata": {},
   "source": [
    "<hr style=\"border:0.02in solid gray\"> </hr>"
   ]
  },
  {
   "cell_type": "markdown",
   "metadata": {},
   "source": [
    "<br>"
   ]
  },
  {
   "cell_type": "markdown",
   "metadata": {},
   "source": [
    "<font color= #555555> <font size = 4> Resumen </font>"
   ]
  },
  {
   "cell_type": "markdown",
   "metadata": {},
   "source": [
    "    \n",
    "<font color= #6B6B6B> <font size = 3>  El siguiente documento, presenta los resultados adquiridos de las apis y de las distintas criptomonedas, además de que se realiza una comparación mediante distintas métricas como es el spread, roll spread, y el volumen, mediante cada posición, que sería el **ask** y el **bid.**</font>"
   ]
  },
  {
   "cell_type": "markdown",
   "metadata": {},
   "source": [
    "<br>"
   ]
  },
  {
   "cell_type": "markdown",
   "metadata": {},
   "source": [
    "# <font color= #6B6B6B> <font size = 6> 1. Introducción </font>"
   ]
  },
  {
   "cell_type": "markdown",
   "metadata": {},
   "source": [
    "<hr style=\"border:0.02in solid gray\"> </hr>"
   ]
  },
  {
   "cell_type": "markdown",
   "metadata": {},
   "source": [
    "This is an introduction, normally, it is done at the very end, when all the other content in the notebook is completed but just before the abstract (which is short version of the introduction) ... "
   ]
  },
  {
   "cell_type": "markdown",
   "metadata": {},
   "source": [
    "<br>"
   ]
  },
  {
   "cell_type": "markdown",
   "metadata": {},
   "source": [
    "# <font color= #6B6B6B> 2. Paqueterias y dependencias </font>"
   ]
  },
  {
   "cell_type": "markdown",
   "metadata": {},
   "source": [
    "Para correr este Notebook es necesaria tener instalar las librerías contenidas en requirements.txt:\n",
    "\n",
    "- pandas>=1.1.1\n",
    "- numpy>=1.19.1\n",
    "- jupyter>=1.0.0\n",
    "- datetime\n",
    "- plotly>=4.14\n",
    "- datetime"
   ]
  },
  {
   "cell_type": "markdown",
   "metadata": {},
   "source": [
    "<hr style=\"border:0.02in solid gray\"> </hr>"
   ]
  },
  {
   "cell_type": "markdown",
   "metadata": {},
   "source": [
    "<br>"
   ]
  },
  {
   "cell_type": "markdown",
   "metadata": {},
   "source": [
    "## <font color= #6E6E6E> 2.1 Instalar paqueterias</font>"
   ]
  },
  {
   "cell_type": "code",
   "execution_count": 1,
   "metadata": {},
   "outputs": [],
   "source": [
    "#Importar librarias\n",
    "import pandas as pd\n",
    "import datetime\n",
    "import ccxt\n",
    "from datetime import datetime\n",
    "from sympy import Limit\n",
    "import numpy as np\n",
    "import time\n",
    "import plotly.graph_objects as go\n",
    "import matplotlib.pyplot as plt\n",
    "\n",
    "#Estructura\n",
    "import functions as fn\n",
    "#import data as dt\n",
    "#import main as mn\n",
    "#import visualizations as vn\n",
    "\n"
   ]
  },
  {
   "cell_type": "markdown",
   "metadata": {},
   "source": [
    "<br>"
   ]
  },
  {
   "cell_type": "markdown",
   "metadata": {},
   "source": [
    "# <font color= #6B6B6B> 3. Descripción de los datos </font>"
   ]
  },
  {
   "cell_type": "markdown",
   "metadata": {},
   "source": [
    "<hr style=\"border:0.02in solid gray\"> </hr>"
   ]
  },
  {
   "cell_type": "markdown",
   "metadata": {},
   "source": [
    "Los datos que se extraen, son datos obtenidos de distintas plataformas que manejan **criptomonedas**, las apis que utilizaremos son las siguietes:\n",
    "- Bitso\n",
    "- Ascendex\n",
    "- Bitbay\n",
    "- Bitbns\n",
    "\n",
    "Además se utilizarán las criptomonedas(simbolos) de **BTC**,**LTC** y **EOS**.\n",
    "\n",
    "Se obtendrán los datos de **bid** que es el precio más alto que el comprador está dispuesto a pagar, y el **ask** que es  el precio más bajo al que el vendedor está dispuesto a vender. Apartir de esas variables, se obtendrán distintas métricas que nos podrán ayudar a tomar decisiones a la hora de hacer operaciones en el mercado de criptomonedas.\n",
    "\n"
   ]
  },
  {
   "cell_type": "markdown",
   "metadata": {},
   "source": [
    "<br>"
   ]
  },
  {
   "cell_type": "markdown",
   "metadata": {},
   "source": [
    "# <font color= #6B6B6B> 4. Proceso </font>"
   ]
  },
  {
   "cell_type": "markdown",
   "metadata": {},
   "source": [
    "<hr style=\"border:0.02in solid gray\"> </hr>"
   ]
  },
  {
   "cell_type": "markdown",
   "metadata": {},
   "source": [
    "En el siguiente apartado se mostrarán los resultados obtenidos al calcular las siguientes métricas:\n",
    "\n",
    "El **Midprice** mediante el uso de los precios de *ask* y *bid*.\n",
    "$$ Midprice =  \\frac{Ask - Bid}{2}$$"
   ]
  },
  {
   "cell_type": "markdown",
   "metadata": {},
   "source": [
    "El **VWAP**, donde se utiliza el ask (precio) y el bid(precio), así como su volumen.   \n",
    "$$ VWAP = \\frac{\\sum (Volumen * Precio)}{\\sum Volumen}$$"
   ]
  },
  {
   "cell_type": "markdown",
   "metadata": {},
   "source": [
    "El **Spread**, donde se resta el precio de bid y ask.\n",
    "\n",
    "$$ Spread   = \\ Bid  - Ask $$\n"
   ]
  },
  {
   "cell_type": "markdown",
   "metadata": {},
   "source": [
    "## Datos de la criptomoneda *BTC/USDT*"
   ]
  },
  {
   "cell_type": "code",
   "execution_count": null,
   "metadata": {},
   "outputs": [],
   "source": []
  },
  {
   "cell_type": "code",
   "execution_count": 2,
   "metadata": {},
   "outputs": [],
   "source": [
    "##Bitso\n",
    "fb=fn.fetch_order_book_bitso('BTC/USDT',30)\n",
    "fb1=pd.DataFrame(fb[:30])"
   ]
  },
  {
   "cell_type": "code",
   "execution_count": 3,
   "metadata": {},
   "outputs": [],
   "source": [
    "#Ascendex\n",
    "fa=fn.fetch_order_book_ascendex('BTC/USDT',30)\n",
    "fa1=pd.DataFrame(fa[:30])"
   ]
  },
  {
   "cell_type": "code",
   "execution_count": 4,
   "metadata": {},
   "outputs": [],
   "source": [
    "#Bitbay\n",
    "fbi=fn.fetch_order_book_bitbay('BTC/USDT',30)\n",
    "fbi1=pd.DataFrame(fbi[:30])"
   ]
  },
  {
   "cell_type": "code",
   "execution_count": 5,
   "metadata": {},
   "outputs": [
    {
     "data": {
      "text/html": [
       "<div>\n",
       "<style scoped>\n",
       "    .dataframe tbody tr th:only-of-type {\n",
       "        vertical-align: middle;\n",
       "    }\n",
       "\n",
       "    .dataframe tbody tr th {\n",
       "        vertical-align: top;\n",
       "    }\n",
       "\n",
       "    .dataframe thead th {\n",
       "        text-align: right;\n",
       "    }\n",
       "</style>\n",
       "<table border=\"1\" class=\"dataframe\">\n",
       "  <thead>\n",
       "    <tr style=\"text-align: right;\">\n",
       "      <th></th>\n",
       "      <th>Ask</th>\n",
       "      <th>AVolume</th>\n",
       "      <th>Bid</th>\n",
       "      <th>BVolume</th>\n",
       "      <th>Index</th>\n",
       "      <th>Exchange</th>\n",
       "      <th>Ticker</th>\n",
       "      <th>Timestamp</th>\n",
       "      <th>Vwap Ask</th>\n",
       "      <th>Vwap Bid</th>\n",
       "      <th>Total Volume</th>\n",
       "      <th>Midprice</th>\n",
       "      <th>Spread</th>\n",
       "      <th>Roll Spread</th>\n",
       "    </tr>\n",
       "  </thead>\n",
       "  <tbody>\n",
       "    <tr>\n",
       "      <th>0</th>\n",
       "      <td>39869.8600</td>\n",
       "      <td>0.099900</td>\n",
       "      <td>39759.8600</td>\n",
       "      <td>0.001189</td>\n",
       "      <td>0</td>\n",
       "      <td>Bitbns</td>\n",
       "      <td>BTC/USDT</td>\n",
       "      <td>2022-04-29T00:57:32.623Z</td>\n",
       "      <td>39869.860000</td>\n",
       "      <td>39759.860000</td>\n",
       "      <td>0.101089</td>\n",
       "      <td>39814.86000</td>\n",
       "      <td>-110.0000</td>\n",
       "      <td>39814.86000</td>\n",
       "    </tr>\n",
       "    <tr>\n",
       "      <th>1</th>\n",
       "      <td>39871.7100</td>\n",
       "      <td>0.152080</td>\n",
       "      <td>39750.1800</td>\n",
       "      <td>0.076850</td>\n",
       "      <td>1</td>\n",
       "      <td>Bitbns</td>\n",
       "      <td>BTC/USDT</td>\n",
       "      <td>2022-04-29T00:57:32.623Z</td>\n",
       "      <td>39870.976549</td>\n",
       "      <td>39750.327532</td>\n",
       "      <td>0.228930</td>\n",
       "      <td>39810.94500</td>\n",
       "      <td>-121.5300</td>\n",
       "      <td>39810.94500</td>\n",
       "    </tr>\n",
       "    <tr>\n",
       "      <th>2</th>\n",
       "      <td>39872.3000</td>\n",
       "      <td>0.074670</td>\n",
       "      <td>39750.1400</td>\n",
       "      <td>0.048770</td>\n",
       "      <td>2</td>\n",
       "      <td>Bitbns</td>\n",
       "      <td>BTC/USDT</td>\n",
       "      <td>2022-04-29T00:57:32.623Z</td>\n",
       "      <td>39871.279081</td>\n",
       "      <td>39750.255408</td>\n",
       "      <td>0.123440</td>\n",
       "      <td>39811.22000</td>\n",
       "      <td>-122.1600</td>\n",
       "      <td>39811.22000</td>\n",
       "    </tr>\n",
       "    <tr>\n",
       "      <th>3</th>\n",
       "      <td>39873.5900</td>\n",
       "      <td>0.050900</td>\n",
       "      <td>39748.9400</td>\n",
       "      <td>0.622030</td>\n",
       "      <td>3</td>\n",
       "      <td>Bitbns</td>\n",
       "      <td>BTC/USDT</td>\n",
       "      <td>2022-04-29T00:57:32.623Z</td>\n",
       "      <td>39871.590631</td>\n",
       "      <td>39749.162753</td>\n",
       "      <td>0.672930</td>\n",
       "      <td>39811.26500</td>\n",
       "      <td>-124.6500</td>\n",
       "      <td>39811.26500</td>\n",
       "    </tr>\n",
       "    <tr>\n",
       "      <th>4</th>\n",
       "      <td>39873.9800</td>\n",
       "      <td>0.068780</td>\n",
       "      <td>39748.7700</td>\n",
       "      <td>0.798030</td>\n",
       "      <td>4</td>\n",
       "      <td>Bitbns</td>\n",
       "      <td>BTC/USDT</td>\n",
       "      <td>2022-04-29T00:57:32.623Z</td>\n",
       "      <td>39871.958836</td>\n",
       "      <td>39748.960132</td>\n",
       "      <td>0.866810</td>\n",
       "      <td>39811.37500</td>\n",
       "      <td>-125.2100</td>\n",
       "      <td>39811.37500</td>\n",
       "    </tr>\n",
       "    <tr>\n",
       "      <th>5</th>\n",
       "      <td>39874.7700</td>\n",
       "      <td>0.275330</td>\n",
       "      <td>39748.2800</td>\n",
       "      <td>0.138760</td>\n",
       "      <td>5</td>\n",
       "      <td>Bitbns</td>\n",
       "      <td>BTC/USDT</td>\n",
       "      <td>2022-04-29T00:57:32.623Z</td>\n",
       "      <td>39873.031360</td>\n",
       "      <td>39748.904144</td>\n",
       "      <td>0.414090</td>\n",
       "      <td>39811.52500</td>\n",
       "      <td>-126.4900</td>\n",
       "      <td>39811.52500</td>\n",
       "    </tr>\n",
       "    <tr>\n",
       "      <th>6</th>\n",
       "      <td>40424.9400</td>\n",
       "      <td>0.788160</td>\n",
       "      <td>39746.8800</td>\n",
       "      <td>0.127080</td>\n",
       "      <td>6</td>\n",
       "      <td>Bitbns</td>\n",
       "      <td>BTC/USDT</td>\n",
       "      <td>2022-04-29T00:57:32.623Z</td>\n",
       "      <td>40161.140084</td>\n",
       "      <td>39748.762241</td>\n",
       "      <td>0.915240</td>\n",
       "      <td>40085.91000</td>\n",
       "      <td>-678.0600</td>\n",
       "      <td>40085.91000</td>\n",
       "    </tr>\n",
       "    <tr>\n",
       "      <th>7</th>\n",
       "      <td>40424.9500</td>\n",
       "      <td>0.332050</td>\n",
       "      <td>39587.7600</td>\n",
       "      <td>0.247160</td>\n",
       "      <td>7</td>\n",
       "      <td>Bitbns</td>\n",
       "      <td>BTC/USDT</td>\n",
       "      <td>2022-04-29T00:57:32.623Z</td>\n",
       "      <td>40208.699403</td>\n",
       "      <td>39729.443874</td>\n",
       "      <td>0.579210</td>\n",
       "      <td>40006.35500</td>\n",
       "      <td>-837.1900</td>\n",
       "      <td>40006.35500</td>\n",
       "    </tr>\n",
       "    <tr>\n",
       "      <th>8</th>\n",
       "      <td>40425.0700</td>\n",
       "      <td>0.689120</td>\n",
       "      <td>39586.8200</td>\n",
       "      <td>0.144470</td>\n",
       "      <td>8</td>\n",
       "      <td>Bitbns</td>\n",
       "      <td>BTC/USDT</td>\n",
       "      <td>2022-04-29T00:57:32.623Z</td>\n",
       "      <td>40267.611254</td>\n",
       "      <td>39720.096460</td>\n",
       "      <td>0.833590</td>\n",
       "      <td>40005.94500</td>\n",
       "      <td>-838.2500</td>\n",
       "      <td>40005.94500</td>\n",
       "    </tr>\n",
       "    <tr>\n",
       "      <th>9</th>\n",
       "      <td>40425.2700</td>\n",
       "      <td>0.211230</td>\n",
       "      <td>39586.0600</td>\n",
       "      <td>0.064120</td>\n",
       "      <td>9</td>\n",
       "      <td>Bitbns</td>\n",
       "      <td>BTC/USDT</td>\n",
       "      <td>2022-04-29T00:57:32.623Z</td>\n",
       "      <td>40279.755523</td>\n",
       "      <td>39716.307802</td>\n",
       "      <td>0.275350</td>\n",
       "      <td>40005.66500</td>\n",
       "      <td>-839.2100</td>\n",
       "      <td>40005.66500</td>\n",
       "    </tr>\n",
       "    <tr>\n",
       "      <th>10</th>\n",
       "      <td>40590.9090</td>\n",
       "      <td>0.000100</td>\n",
       "      <td>39257.4900</td>\n",
       "      <td>0.829760</td>\n",
       "      <td>10</td>\n",
       "      <td>Bitbns</td>\n",
       "      <td>BTC/USDT</td>\n",
       "      <td>2022-04-29T00:57:32.623Z</td>\n",
       "      <td>40279.766869</td>\n",
       "      <td>39593.427976</td>\n",
       "      <td>0.829860</td>\n",
       "      <td>39924.19950</td>\n",
       "      <td>-1333.4190</td>\n",
       "      <td>39924.19950</td>\n",
       "    </tr>\n",
       "    <tr>\n",
       "      <th>11</th>\n",
       "      <td>40700.0000</td>\n",
       "      <td>0.550000</td>\n",
       "      <td>39227.2727</td>\n",
       "      <td>0.000100</td>\n",
       "      <td>11</td>\n",
       "      <td>Bitbns</td>\n",
       "      <td>BTC/USDT</td>\n",
       "      <td>2022-04-29T00:57:32.623Z</td>\n",
       "      <td>40349.969104</td>\n",
       "      <td>39593.416158</td>\n",
       "      <td>0.550100</td>\n",
       "      <td>39963.63635</td>\n",
       "      <td>-1472.7273</td>\n",
       "      <td>39963.63635</td>\n",
       "    </tr>\n",
       "    <tr>\n",
       "      <th>12</th>\n",
       "      <td>40991.1200</td>\n",
       "      <td>0.001183</td>\n",
       "      <td>38652.0000</td>\n",
       "      <td>0.000026</td>\n",
       "      <td>12</td>\n",
       "      <td>Bitbns</td>\n",
       "      <td>BTC/USDT</td>\n",
       "      <td>2022-04-29T00:57:32.623Z</td>\n",
       "      <td>40350.199373</td>\n",
       "      <td>39593.408377</td>\n",
       "      <td>0.001208</td>\n",
       "      <td>39821.56000</td>\n",
       "      <td>-2339.1200</td>\n",
       "      <td>39821.56000</td>\n",
       "    </tr>\n",
       "    <tr>\n",
       "      <th>13</th>\n",
       "      <td>41272.7272</td>\n",
       "      <td>0.000100</td>\n",
       "      <td>38545.4545</td>\n",
       "      <td>0.000100</td>\n",
       "      <td>13</td>\n",
       "      <td>Bitbns</td>\n",
       "      <td>BTC/USDT</td>\n",
       "      <td>2022-04-29T00:57:32.623Z</td>\n",
       "      <td>40350.227383</td>\n",
       "      <td>39593.374555</td>\n",
       "      <td>0.000200</td>\n",
       "      <td>39909.09085</td>\n",
       "      <td>-2727.2727</td>\n",
       "      <td>39909.09085</td>\n",
       "    </tr>\n",
       "    <tr>\n",
       "      <th>14</th>\n",
       "      <td>41954.5454</td>\n",
       "      <td>0.000100</td>\n",
       "      <td>37863.6363</td>\n",
       "      <td>0.000100</td>\n",
       "      <td>14</td>\n",
       "      <td>Bitbns</td>\n",
       "      <td>BTC/USDT</td>\n",
       "      <td>2022-04-29T00:57:32.623Z</td>\n",
       "      <td>40350.276091</td>\n",
       "      <td>39593.318731</td>\n",
       "      <td>0.000200</td>\n",
       "      <td>39909.09085</td>\n",
       "      <td>-4090.9091</td>\n",
       "      <td>39909.09085</td>\n",
       "    </tr>\n",
       "  </tbody>\n",
       "</table>\n",
       "</div>"
      ],
      "text/plain": [
       "           Ask   AVolume         Bid   BVolume  Index Exchange    Ticker  \\\n",
       "0   39869.8600  0.099900  39759.8600  0.001189      0   Bitbns  BTC/USDT   \n",
       "1   39871.7100  0.152080  39750.1800  0.076850      1   Bitbns  BTC/USDT   \n",
       "2   39872.3000  0.074670  39750.1400  0.048770      2   Bitbns  BTC/USDT   \n",
       "3   39873.5900  0.050900  39748.9400  0.622030      3   Bitbns  BTC/USDT   \n",
       "4   39873.9800  0.068780  39748.7700  0.798030      4   Bitbns  BTC/USDT   \n",
       "5   39874.7700  0.275330  39748.2800  0.138760      5   Bitbns  BTC/USDT   \n",
       "6   40424.9400  0.788160  39746.8800  0.127080      6   Bitbns  BTC/USDT   \n",
       "7   40424.9500  0.332050  39587.7600  0.247160      7   Bitbns  BTC/USDT   \n",
       "8   40425.0700  0.689120  39586.8200  0.144470      8   Bitbns  BTC/USDT   \n",
       "9   40425.2700  0.211230  39586.0600  0.064120      9   Bitbns  BTC/USDT   \n",
       "10  40590.9090  0.000100  39257.4900  0.829760     10   Bitbns  BTC/USDT   \n",
       "11  40700.0000  0.550000  39227.2727  0.000100     11   Bitbns  BTC/USDT   \n",
       "12  40991.1200  0.001183  38652.0000  0.000026     12   Bitbns  BTC/USDT   \n",
       "13  41272.7272  0.000100  38545.4545  0.000100     13   Bitbns  BTC/USDT   \n",
       "14  41954.5454  0.000100  37863.6363  0.000100     14   Bitbns  BTC/USDT   \n",
       "\n",
       "                   Timestamp      Vwap Ask      Vwap Bid  Total Volume  \\\n",
       "0   2022-04-29T00:57:32.623Z  39869.860000  39759.860000      0.101089   \n",
       "1   2022-04-29T00:57:32.623Z  39870.976549  39750.327532      0.228930   \n",
       "2   2022-04-29T00:57:32.623Z  39871.279081  39750.255408      0.123440   \n",
       "3   2022-04-29T00:57:32.623Z  39871.590631  39749.162753      0.672930   \n",
       "4   2022-04-29T00:57:32.623Z  39871.958836  39748.960132      0.866810   \n",
       "5   2022-04-29T00:57:32.623Z  39873.031360  39748.904144      0.414090   \n",
       "6   2022-04-29T00:57:32.623Z  40161.140084  39748.762241      0.915240   \n",
       "7   2022-04-29T00:57:32.623Z  40208.699403  39729.443874      0.579210   \n",
       "8   2022-04-29T00:57:32.623Z  40267.611254  39720.096460      0.833590   \n",
       "9   2022-04-29T00:57:32.623Z  40279.755523  39716.307802      0.275350   \n",
       "10  2022-04-29T00:57:32.623Z  40279.766869  39593.427976      0.829860   \n",
       "11  2022-04-29T00:57:32.623Z  40349.969104  39593.416158      0.550100   \n",
       "12  2022-04-29T00:57:32.623Z  40350.199373  39593.408377      0.001208   \n",
       "13  2022-04-29T00:57:32.623Z  40350.227383  39593.374555      0.000200   \n",
       "14  2022-04-29T00:57:32.623Z  40350.276091  39593.318731      0.000200   \n",
       "\n",
       "       Midprice     Spread  Roll Spread  \n",
       "0   39814.86000  -110.0000  39814.86000  \n",
       "1   39810.94500  -121.5300  39810.94500  \n",
       "2   39811.22000  -122.1600  39811.22000  \n",
       "3   39811.26500  -124.6500  39811.26500  \n",
       "4   39811.37500  -125.2100  39811.37500  \n",
       "5   39811.52500  -126.4900  39811.52500  \n",
       "6   40085.91000  -678.0600  40085.91000  \n",
       "7   40006.35500  -837.1900  40006.35500  \n",
       "8   40005.94500  -838.2500  40005.94500  \n",
       "9   40005.66500  -839.2100  40005.66500  \n",
       "10  39924.19950 -1333.4190  39924.19950  \n",
       "11  39963.63635 -1472.7273  39963.63635  \n",
       "12  39821.56000 -2339.1200  39821.56000  \n",
       "13  39909.09085 -2727.2727  39909.09085  \n",
       "14  39909.09085 -4090.9091  39909.09085  "
      ]
     },
     "execution_count": 5,
     "metadata": {},
     "output_type": "execute_result"
    }
   ],
   "source": [
    "#Bitbns\n",
    "fbt=fn.fetch_order_book_bitbns('BTC/USDT',30)\n",
    "pd.DataFrame(fbt[:30])"
   ]
  },
  {
   "cell_type": "code",
   "execution_count": 6,
   "metadata": {},
   "outputs": [
    {
     "ename": "NameError",
     "evalue": "name 'fbt1' is not defined",
     "output_type": "error",
     "traceback": [
      "\u001b[1;31m---------------------------------------------------------------------------\u001b[0m",
      "\u001b[1;31mNameError\u001b[0m                                 Traceback (most recent call last)",
      "\u001b[1;32m<ipython-input-6-533c542d211e>\u001b[0m in \u001b[0;36m<module>\u001b[1;34m\u001b[0m\n\u001b[0;32m      1\u001b[0m \u001b[1;31m#Final\u001b[0m\u001b[1;33m\u001b[0m\u001b[1;33m\u001b[0m\u001b[1;33m\u001b[0m\u001b[0m\n\u001b[1;32m----> 2\u001b[1;33m \u001b[0mfinal\u001b[0m \u001b[1;33m=\u001b[0m \u001b[0mpd\u001b[0m\u001b[1;33m.\u001b[0m\u001b[0mconcat\u001b[0m\u001b[1;33m(\u001b[0m\u001b[1;33m[\u001b[0m\u001b[0mfb1\u001b[0m\u001b[1;33m,\u001b[0m\u001b[0mfa1\u001b[0m\u001b[1;33m,\u001b[0m\u001b[0mfbi1\u001b[0m\u001b[1;33m,\u001b[0m\u001b[0mfbt1\u001b[0m\u001b[1;33m]\u001b[0m\u001b[1;33m,\u001b[0m\u001b[0maxis\u001b[0m\u001b[1;33m=\u001b[0m\u001b[1;36m0\u001b[0m\u001b[1;33m)\u001b[0m\u001b[1;33m\u001b[0m\u001b[1;33m\u001b[0m\u001b[0m\n\u001b[0m\u001b[0;32m      3\u001b[0m \u001b[0mfnl\u001b[0m\u001b[1;33m=\u001b[0m\u001b[0mpd\u001b[0m\u001b[1;33m.\u001b[0m\u001b[0mDataFrame\u001b[0m\u001b[1;33m(\u001b[0m\u001b[0mfinal\u001b[0m\u001b[1;33m[\u001b[0m\u001b[1;33m:\u001b[0m\u001b[1;36m100\u001b[0m\u001b[1;33m]\u001b[0m\u001b[1;33m)\u001b[0m\u001b[1;33m\u001b[0m\u001b[1;33m\u001b[0m\u001b[0m\n\u001b[0;32m      4\u001b[0m \u001b[0mprint\u001b[0m\u001b[1;33m(\u001b[0m\u001b[0mfnl\u001b[0m\u001b[1;33m)\u001b[0m\u001b[1;33m\u001b[0m\u001b[1;33m\u001b[0m\u001b[0m\n",
      "\u001b[1;31mNameError\u001b[0m: name 'fbt1' is not defined"
     ]
    }
   ],
   "source": [
    "#Final\n",
    "final = pd.concat([fb1,fa1,fbi1,fbt1],axis=0)\n",
    "fnl=pd.DataFrame(final[:100])\n",
    "print(fnl)"
   ]
  },
  {
   "cell_type": "code",
   "execution_count": null,
   "metadata": {},
   "outputs": [],
   "source": [
    "import plotly.express as px\n",
    "\n",
    "df2= fnl[fnl[\"Ticker\"]==\"BTC/USD\"]\n",
    "fig=px.line(df2, x=\"Timestamp\", y=\"Midprice\",color=\"Exchange\")\n",
    "fig.show()\n"
   ]
  },
  {
   "cell_type": "code",
   "execution_count": null,
   "metadata": {},
   "outputs": [],
   "source": [
    "ax = plt.gca() \n",
    "  \n",
    "fnl.plot( x = 'Midprice' , y = 'Ask', ax=ax) \n",
    "#df_days_calories.plot( x = 'Subject' , y = 'Grade' , ax = ax ) "
   ]
  },
  {
   "cell_type": "markdown",
   "metadata": {},
   "source": [
    "## Datos de la criptomoneda *LTC/USD*"
   ]
  },
  {
   "cell_type": "code",
   "execution_count": null,
   "metadata": {},
   "outputs": [],
   "source": [
    "##Bitso\n",
    "fbe=fn.fetch_order_book_bitso('LTC/USD',30)\n",
    "pd.DataFrame(fbe[:30])"
   ]
  },
  {
   "cell_type": "code",
   "execution_count": null,
   "metadata": {},
   "outputs": [],
   "source": [
    "#Ascendex\n",
    "fa=fn.fetch_order_book_ascendex('LTC/USDT',30)\n",
    "#pd.DataFrame(fa[:30])"
   ]
  },
  {
   "cell_type": "code",
   "execution_count": null,
   "metadata": {},
   "outputs": [],
   "source": [
    "#Bitbay\n",
    "fbi=fn.fetch_order_book_bitbay(\"LTC/USDT\",30)\n",
    "#pd.DataFrame(fbi[:30])"
   ]
  },
  {
   "cell_type": "code",
   "execution_count": null,
   "metadata": {},
   "outputs": [],
   "source": [
    "#Bitbns\n",
    "fbt=fn.fetch_order_book_bitbns('LTC/USDT',30)\n",
    "pd.DataFrame(fbt[:30])"
   ]
  },
  {
   "cell_type": "markdown",
   "metadata": {},
   "source": [
    "## Datos de la criptomoneda *EOS/USD*"
   ]
  },
  {
   "cell_type": "code",
   "execution_count": null,
   "metadata": {},
   "outputs": [],
   "source": [
    "##Bitso\n",
    "fbe=fn.fetch_order_book_bitso('XRP/USD',30)\n",
    "#pd.DataFrame(fbe[:30])"
   ]
  },
  {
   "cell_type": "code",
   "execution_count": null,
   "metadata": {},
   "outputs": [],
   "source": [
    "#Ascendex\n",
    "fa=fn.fetch_order_book_ascendex('XRP/USDT',30)\n",
    "#pd.DataFrame(fa[:30])"
   ]
  },
  {
   "cell_type": "code",
   "execution_count": null,
   "metadata": {},
   "outputs": [],
   "source": [
    "#Bitbay\n",
    "fbi=fn.fetch_order_book_bitbay(\"XRP/USDT\",30)\n",
    "#pd.DataFrame(fbi[:30])"
   ]
  },
  {
   "cell_type": "code",
   "execution_count": null,
   "metadata": {},
   "outputs": [],
   "source": [
    "#Bitbns\n",
    "fbt=fn.fetch_order_book_bitbns('XRP/USDT',30)\n",
    "#pd.DataFrame(fbt[:30])"
   ]
  },
  {
   "cell_type": "markdown",
   "metadata": {},
   "source": [
    "<br>"
   ]
  },
  {
   "cell_type": "markdown",
   "metadata": {},
   "source": [
    "# <font color= #6B6B6B> 5. Another particular Process  </font>"
   ]
  },
  {
   "cell_type": "markdown",
   "metadata": {},
   "source": [
    "<hr style=\"border:0.02in solid gray\"> </hr>"
   ]
  },
  {
   "cell_type": "code",
   "execution_count": null,
   "metadata": {},
   "outputs": [],
   "source": [
    "# DELETE THIS CELL IN YOUR FILE\n",
    "\n",
    "# Another particular process that is relevant for the work. Normally, you include between 2 and 5 at the most."
   ]
  },
  {
   "cell_type": "markdown",
   "metadata": {},
   "source": [
    "<br>"
   ]
  },
  {
   "cell_type": "markdown",
   "metadata": {},
   "source": [
    "# <font color= #6B6B6B> <font size = 6> 5. Results </font>"
   ]
  },
  {
   "cell_type": "markdown",
   "metadata": {},
   "source": [
    "<hr style=\"border:0.02in solid gray\"> </hr>"
   ]
  },
  {
   "cell_type": "code",
   "execution_count": null,
   "metadata": {},
   "outputs": [],
   "source": [
    "# DELETE THIS CELL IN YOUR FILE\n",
    "\n",
    "# In here you present the general results, and also, a discussion of such results."
   ]
  },
  {
   "cell_type": "markdown",
   "metadata": {},
   "source": [
    "<br>"
   ]
  },
  {
   "cell_type": "markdown",
   "metadata": {},
   "source": [
    "## <font color= #6B6B6B> 5.1 Results of first processes </font>"
   ]
  },
  {
   "cell_type": "code",
   "execution_count": null,
   "metadata": {},
   "outputs": [],
   "source": [
    "# DELETE THIS CELL IN YOUR FILE\n",
    "\n",
    "# Separate your results according to the main processes you are working on"
   ]
  },
  {
   "cell_type": "markdown",
   "metadata": {},
   "source": [
    "<br>"
   ]
  },
  {
   "cell_type": "markdown",
   "metadata": {},
   "source": [
    "## <font color= #6B6B6B> 5.2 Results of another proces </font>"
   ]
  },
  {
   "cell_type": "code",
   "execution_count": null,
   "metadata": {},
   "outputs": [],
   "source": [
    "# DELETE THIS CELL IN YOUR FILE\n",
    "\n",
    "# You can have several processes with which you are obtaining the results you need."
   ]
  },
  {
   "cell_type": "markdown",
   "metadata": {},
   "source": [
    "<br>"
   ]
  },
  {
   "cell_type": "markdown",
   "metadata": {},
   "source": [
    "# <font color= #6B6B6B> <font size = 6> 6. References </font>"
   ]
  },
  {
   "cell_type": "markdown",
   "metadata": {},
   "source": [
    "<hr style=\"border:0.02in solid gray\"> </hr>"
   ]
  },
  {
   "cell_type": "code",
   "execution_count": null,
   "metadata": {},
   "outputs": [],
   "source": [
    "# DELETE THIS CELL IN YOUR FILE\n",
    "\n",
    "# Citations, and other references you are using.\n",
    "\n",
    "# DO INCLUDE THE FOLLOWING CITATION FOR THIS TEMPLATE"
   ]
  },
  {
   "cell_type": "markdown",
   "metadata": {},
   "source": [
    "[1] Munnoz, 2020. Python project template. https://github.com/iffranciscome/python-project. (2021)."
   ]
  },
  {
   "cell_type": "markdown",
   "metadata": {},
   "source": [
    "<br>"
   ]
  },
  {
   "cell_type": "markdown",
   "metadata": {},
   "source": [
    "# <font color= red> TESTS (DO NOT INCLUDE IN THE FINAL NOTEBOOK) </font>"
   ]
  },
  {
   "cell_type": "markdown",
   "metadata": {},
   "source": [
    "<hr style=\"border:0.02in solid red\"> </hr>"
   ]
  },
  {
   "cell_type": "markdown",
   "metadata": {},
   "source": [
    "Next are a series of tests to verify that everything is working ok. From correctly installed and loaded packages, to import other scripts, print plots with plotly"
   ]
  },
  {
   "cell_type": "code",
   "execution_count": null,
   "metadata": {},
   "outputs": [],
   "source": [
    "import pandas as pd\n",
    "import data as dt"
   ]
  },
  {
   "cell_type": "code",
   "execution_count": null,
   "metadata": {},
   "outputs": [],
   "source": [
    "# -- TEST 1 : \n",
    "# verify that the script is being read\n",
    "print(dt.dict_test)"
   ]
  },
  {
   "cell_type": "code",
   "execution_count": null,
   "metadata": {},
   "outputs": [],
   "source": [
    "# -- TEST 2 :\n",
    "# verify that installed pandas module works correctly\n",
    "df_dict_test = pd.DataFrame(dt.dict_test, index=[0,1])\n",
    "print(df_dict_test)"
   ]
  },
  {
   "cell_type": "code",
   "execution_count": null,
   "metadata": {},
   "outputs": [],
   "source": [
    "# -- TEST 3 :\n",
    "# verify you can use plotly and visualize plots in jupyter notebook\n",
    "\n",
    "from plotly.offline import iplot   # print the plot inside jupyter and offline\n",
    "import plotly.graph_objects as go  # functions to create plots\n",
    "\n",
    "# example data\n",
    "df = pd.DataFrame({'column_a': [1, 2, 3, 4, 5], 'column_b': [1, 2, 3, 4, 5]})\n",
    "# basic plotly plot\n",
    "data = [go.Bar(x=df['column_a'], y=df['column_b'])]\n",
    "\n",
    "# instruction to view it inside jupyter\n",
    "iplot(data)"
   ]
  },
  {
   "cell_type": "code",
   "execution_count": null,
   "metadata": {},
   "outputs": [],
   "source": [
    "# -- TEST 4 :\n",
    "# verify you can use plotly and visualize plots in web browser locally\n",
    "\n",
    "import plotly.io as pio            # to define input-output of plots\n",
    "pio.renderers.default = \"browser\"  # to render the plot locally in your default web browser\n",
    "\n",
    "# basic plotly plot\n",
    "plot_data = go.Figure(go.Bar(x=df['column_a'], y=df['column_b']))\n",
    "\n",
    "# instruction to view it in specified render (in this case browser)\n",
    "plot_data.show()"
   ]
  }
 ],
 "metadata": {
  "kernelspec": {
   "display_name": "Python 3",
   "language": "python",
   "name": "python3"
  },
  "language_info": {
   "codemirror_mode": {
    "name": "ipython",
    "version": 3
   },
   "file_extension": ".py",
   "mimetype": "text/x-python",
   "name": "python",
   "nbconvert_exporter": "python",
   "pygments_lexer": "ipython3",
   "version": "3.8.3"
  }
 },
 "nbformat": 4,
 "nbformat_minor": 4
}
